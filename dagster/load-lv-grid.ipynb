{
 "cells": [
  {
   "cell_type": "code",
   "execution_count": 4,
   "metadata": {},
   "outputs": [
    {
     "name": "stdout",
     "output_type": "stream",
     "text": [
      "The autoreload extension is already loaded. To reload it, use:\n",
      "  %reload_ext autoreload\n"
     ]
    }
   ],
   "source": [
    "%load_ext autoreload\n",
    "%autoreload 2"
   ]
  },
  {
   "cell_type": "code",
   "execution_count": 5,
   "metadata": {},
   "outputs": [],
   "source": [
    "import openmeteo_requests\n",
    "from openmeteo_sdk import Model, WeatherApiResponse, Variable\n",
    "\n",
    "import requests_cache\n",
    "import pandas as pd\n",
    "from retry_requests import retry\n",
    "\n",
    "import polars as pl\n",
    "from datetime import datetime, timedelta, timezone\n",
    "\n",
    "import logging\n",
    "\n",
    "logging.basicConfig(level=logging.INFO)\n",
    "\n",
    "logger = logging.getLogger(__name__)\n",
    "\n",
    "from pipeline.api_wrapper import Forecast"
   ]
  },
  {
   "cell_type": "code",
   "execution_count": 6,
   "metadata": {},
   "outputs": [
    {
     "name": "stderr",
     "output_type": "stream",
     "text": [
      "INFO:pipeline.api_wrapper:Getting data for 57.3046898, 25.3627957\n"
     ]
    },
    {
     "data": {
      "text/html": [
       "<div><style>\n",
       ".dataframe > thead > tr,\n",
       ".dataframe > tbody > tr {\n",
       "  text-align: right;\n",
       "  white-space: pre-wrap;\n",
       "}\n",
       "</style>\n",
       "<small>shape: (2_184, 23)</small><table border=\"1\" class=\"dataframe\"><thead><tr><th>created_at</th><th>date</th><th>model</th><th>latitude</th><th>longitude</th><th>elevation</th><th>temperature</th><th>wind_speed</th><th>wind_direction</th><th>relative_humidity</th><th>dew_point</th><th>apparent_temperature</th><th>precipitation</th><th>precipitation_probability</th><th>rain</th><th>showers</th><th>snowfall</th><th>snow_depth</th><th>weather_code</th><th>cloud_cover</th><th>cloud_cover_low</th><th>cloud_cover_mid</th><th>cloud_cover_high</th></tr><tr><td>datetime[μs, UTC]</td><td>datetime[μs, UTC]</td><td>str</td><td>f64</td><td>f64</td><td>f64</td><td>f32</td><td>f32</td><td>f32</td><td>f32</td><td>f32</td><td>f32</td><td>f32</td><td>f32</td><td>f32</td><td>f32</td><td>f32</td><td>f32</td><td>f32</td><td>f32</td><td>f32</td><td>f32</td><td>f32</td></tr></thead><tbody><tr><td>2025-01-10 23:42:45.132660 UTC</td><td>2025-01-10 00:00:00 UTC</td><td>&quot;icon_seamless&quot;</td><td>57.3125</td><td>25.375</td><td>115.0</td><td>-0.393</td><td>2.657066</td><td>109.798965</td><td>88.0</td><td>-2.137431</td><td>-4.221079</td><td>0.0</td><td>3.0</td><td>0.0</td><td>0.0</td><td>0.0</td><td>0.01</td><td>3.0</td><td>98.0</td><td>81.0</td><td>89.0</td><td>55.0</td></tr><tr><td>2025-01-10 23:42:45.132660 UTC</td><td>2025-01-10 01:00:00 UTC</td><td>&quot;icon_seamless&quot;</td><td>57.3125</td><td>25.375</td><td>115.0</td><td>-0.393</td><td>2.844293</td><td>100.124619</td><td>89.0</td><td>-1.984247</td><td>-4.298726</td><td>0.0</td><td>28.0</td><td>0.0</td><td>0.0</td><td>0.0</td><td>0.01</td><td>3.0</td><td>99.0</td><td>78.0</td><td>92.0</td><td>45.0</td></tr><tr><td>2025-01-10 23:42:45.132660 UTC</td><td>2025-01-10 02:00:00 UTC</td><td>&quot;icon_seamless&quot;</td><td>57.3125</td><td>25.375</td><td>115.0</td><td>-0.443</td><td>3.101613</td><td>88.152428</td><td>93.0</td><td>-1.435988</td><td>-4.408221</td><td>0.1</td><td>80.0</td><td>0.0</td><td>0.0</td><td>0.07</td><td>0.01</td><td>71.0</td><td>100.0</td><td>89.0</td><td>100.0</td><td>72.0</td></tr><tr><td>2025-01-10 23:42:45.132660 UTC</td><td>2025-01-10 03:00:00 UTC</td><td>&quot;icon_seamless&quot;</td><td>57.3125</td><td>25.375</td><td>115.0</td><td>-0.393</td><td>3.41321</td><td>84.957642</td><td>93.0</td><td>-1.386396</td><td>-4.514822</td><td>0.4</td><td>100.0</td><td>0.0</td><td>0.0</td><td>0.28</td><td>0.01</td><td>71.0</td><td>100.0</td><td>98.0</td><td>99.0</td><td>100.0</td></tr><tr><td>2025-01-10 23:42:45.132660 UTC</td><td>2025-01-10 04:00:00 UTC</td><td>&quot;icon_seamless&quot;</td><td>57.3125</td><td>25.375</td><td>115.0</td><td>-0.293</td><td>3.811824</td><td>85.486099</td><td>94.0</td><td>-1.141201</td><td>-4.589255</td><td>0.9</td><td>100.0</td><td>0.0</td><td>0.0</td><td>0.63</td><td>0.01</td><td>71.0</td><td>100.0</td><td>94.0</td><td>100.0</td><td>100.0</td></tr><tr><td>&hellip;</td><td>&hellip;</td><td>&hellip;</td><td>&hellip;</td><td>&hellip;</td><td>&hellip;</td><td>&hellip;</td><td>&hellip;</td><td>&hellip;</td><td>&hellip;</td><td>&hellip;</td><td>&hellip;</td><td>&hellip;</td><td>&hellip;</td><td>&hellip;</td><td>&hellip;</td><td>&hellip;</td><td>&hellip;</td><td>&hellip;</td><td>&hellip;</td><td>&hellip;</td><td>&hellip;</td><td>&hellip;</td></tr><tr><td>2025-01-10 23:42:45.291031 UTC</td><td>2025-01-16 19:00:00 UTC</td><td>&quot;dmi_seamless&quot;</td><td>57.312023</td><td>25.36145</td><td>115.0</td><td>3.65</td><td>4.916299</td><td>274.666779</td><td>99.0</td><td>NaN</td><td>-0.450013</td><td>0.0</td><td>5.0</td><td>0.0</td><td>0.0</td><td>0.0</td><td>NaN</td><td>1.0</td><td>44.0</td><td>49.0</td><td>0.0</td><td>0.0</td></tr><tr><td>2025-01-10 23:42:45.291031 UTC</td><td>2025-01-16 20:00:00 UTC</td><td>&quot;dmi_seamless&quot;</td><td>57.312023</td><td>25.36145</td><td>115.0</td><td>3.2</td><td>4.726521</td><td>276.072357</td><td>98.0</td><td>NaN</td><td>-0.912511</td><td>0.0</td><td>7.0</td><td>0.0</td><td>0.0</td><td>0.0</td><td>NaN</td><td>1.0</td><td>38.0</td><td>43.0</td><td>0.0</td><td>0.0</td></tr><tr><td>2025-01-10 23:42:45.291031 UTC</td><td>2025-01-16 21:00:00 UTC</td><td>&quot;dmi_seamless&quot;</td><td>57.312023</td><td>25.36145</td><td>115.0</td><td>2.75</td><td>4.428318</td><td>276.482971</td><td>98.0</td><td>NaN</td><td>-1.288158</td><td>0.0</td><td>8.0</td><td>0.0</td><td>0.0</td><td>0.0</td><td>NaN</td><td>1.0</td><td>34.0</td><td>38.0</td><td>0.0</td><td>0.0</td></tr><tr><td>2025-01-10 23:42:45.291031 UTC</td><td>2025-01-16 22:00:00 UTC</td><td>&quot;dmi_seamless&quot;</td><td>57.312023</td><td>25.36145</td><td>115.0</td><td>2.25</td><td>4.119466</td><td>275.572113</td><td>98.0</td><td>NaN</td><td>-1.714667</td><td>0.0</td><td>9.0</td><td>0.0</td><td>0.0</td><td>0.0</td><td>NaN</td><td>1.0</td><td>31.0</td><td>34.0</td><td>1.0</td><td>0.0</td></tr><tr><td>2025-01-10 23:42:45.291031 UTC</td><td>2025-01-16 23:00:00 UTC</td><td>&quot;dmi_seamless&quot;</td><td>57.312023</td><td>25.36145</td><td>115.0</td><td>1.7</td><td>3.811824</td><td>274.513885</td><td>98.0</td><td>NaN</td><td>-2.197508</td><td>0.0</td><td>11.0</td><td>0.0</td><td>0.0</td><td>0.0</td><td>NaN</td><td>1.0</td><td>29.0</td><td>30.0</td><td>3.0</td><td>0.0</td></tr></tbody></table></div>"
      ],
      "text/plain": [
       "shape: (2_184, 23)\n",
       "┌───────────┬───────────┬───────────┬───────────┬───┬───────────┬───────────┬───────────┬──────────┐\n",
       "│ created_a ┆ date      ┆ model     ┆ latitude  ┆ … ┆ cloud_cov ┆ cloud_cov ┆ cloud_cov ┆ cloud_co │\n",
       "│ t         ┆ ---       ┆ ---       ┆ ---       ┆   ┆ er        ┆ er_low    ┆ er_mid    ┆ ver_high │\n",
       "│ ---       ┆ datetime[ ┆ str       ┆ f64       ┆   ┆ ---       ┆ ---       ┆ ---       ┆ ---      │\n",
       "│ datetime[ ┆ μs, UTC]  ┆           ┆           ┆   ┆ f32       ┆ f32       ┆ f32       ┆ f32      │\n",
       "│ μs, UTC]  ┆           ┆           ┆           ┆   ┆           ┆           ┆           ┆          │\n",
       "╞═══════════╪═══════════╪═══════════╪═══════════╪═══╪═══════════╪═══════════╪═══════════╪══════════╡\n",
       "│ 2025-01-1 ┆ 2025-01-1 ┆ icon_seam ┆ 57.3125   ┆ … ┆ 98.0      ┆ 81.0      ┆ 89.0      ┆ 55.0     │\n",
       "│ 0 23:42:4 ┆ 0         ┆ less      ┆           ┆   ┆           ┆           ┆           ┆          │\n",
       "│ 5.132660  ┆ 00:00:00  ┆           ┆           ┆   ┆           ┆           ┆           ┆          │\n",
       "│ UTC       ┆ UTC       ┆           ┆           ┆   ┆           ┆           ┆           ┆          │\n",
       "│ 2025-01-1 ┆ 2025-01-1 ┆ icon_seam ┆ 57.3125   ┆ … ┆ 99.0      ┆ 78.0      ┆ 92.0      ┆ 45.0     │\n",
       "│ 0 23:42:4 ┆ 0         ┆ less      ┆           ┆   ┆           ┆           ┆           ┆          │\n",
       "│ 5.132660  ┆ 01:00:00  ┆           ┆           ┆   ┆           ┆           ┆           ┆          │\n",
       "│ UTC       ┆ UTC       ┆           ┆           ┆   ┆           ┆           ┆           ┆          │\n",
       "│ 2025-01-1 ┆ 2025-01-1 ┆ icon_seam ┆ 57.3125   ┆ … ┆ 100.0     ┆ 89.0      ┆ 100.0     ┆ 72.0     │\n",
       "│ 0 23:42:4 ┆ 0         ┆ less      ┆           ┆   ┆           ┆           ┆           ┆          │\n",
       "│ 5.132660  ┆ 02:00:00  ┆           ┆           ┆   ┆           ┆           ┆           ┆          │\n",
       "│ UTC       ┆ UTC       ┆           ┆           ┆   ┆           ┆           ┆           ┆          │\n",
       "│ 2025-01-1 ┆ 2025-01-1 ┆ icon_seam ┆ 57.3125   ┆ … ┆ 100.0     ┆ 98.0      ┆ 99.0      ┆ 100.0    │\n",
       "│ 0 23:42:4 ┆ 0         ┆ less      ┆           ┆   ┆           ┆           ┆           ┆          │\n",
       "│ 5.132660  ┆ 03:00:00  ┆           ┆           ┆   ┆           ┆           ┆           ┆          │\n",
       "│ UTC       ┆ UTC       ┆           ┆           ┆   ┆           ┆           ┆           ┆          │\n",
       "│ 2025-01-1 ┆ 2025-01-1 ┆ icon_seam ┆ 57.3125   ┆ … ┆ 100.0     ┆ 94.0      ┆ 100.0     ┆ 100.0    │\n",
       "│ 0 23:42:4 ┆ 0         ┆ less      ┆           ┆   ┆           ┆           ┆           ┆          │\n",
       "│ 5.132660  ┆ 04:00:00  ┆           ┆           ┆   ┆           ┆           ┆           ┆          │\n",
       "│ UTC       ┆ UTC       ┆           ┆           ┆   ┆           ┆           ┆           ┆          │\n",
       "│ …         ┆ …         ┆ …         ┆ …         ┆ … ┆ …         ┆ …         ┆ …         ┆ …        │\n",
       "│ 2025-01-1 ┆ 2025-01-1 ┆ dmi_seaml ┆ 57.312023 ┆ … ┆ 44.0      ┆ 49.0      ┆ 0.0       ┆ 0.0      │\n",
       "│ 0 23:42:4 ┆ 6         ┆ ess       ┆           ┆   ┆           ┆           ┆           ┆          │\n",
       "│ 5.291031  ┆ 19:00:00  ┆           ┆           ┆   ┆           ┆           ┆           ┆          │\n",
       "│ UTC       ┆ UTC       ┆           ┆           ┆   ┆           ┆           ┆           ┆          │\n",
       "│ 2025-01-1 ┆ 2025-01-1 ┆ dmi_seaml ┆ 57.312023 ┆ … ┆ 38.0      ┆ 43.0      ┆ 0.0       ┆ 0.0      │\n",
       "│ 0 23:42:4 ┆ 6         ┆ ess       ┆           ┆   ┆           ┆           ┆           ┆          │\n",
       "│ 5.291031  ┆ 20:00:00  ┆           ┆           ┆   ┆           ┆           ┆           ┆          │\n",
       "│ UTC       ┆ UTC       ┆           ┆           ┆   ┆           ┆           ┆           ┆          │\n",
       "│ 2025-01-1 ┆ 2025-01-1 ┆ dmi_seaml ┆ 57.312023 ┆ … ┆ 34.0      ┆ 38.0      ┆ 0.0       ┆ 0.0      │\n",
       "│ 0 23:42:4 ┆ 6         ┆ ess       ┆           ┆   ┆           ┆           ┆           ┆          │\n",
       "│ 5.291031  ┆ 21:00:00  ┆           ┆           ┆   ┆           ┆           ┆           ┆          │\n",
       "│ UTC       ┆ UTC       ┆           ┆           ┆   ┆           ┆           ┆           ┆          │\n",
       "│ 2025-01-1 ┆ 2025-01-1 ┆ dmi_seaml ┆ 57.312023 ┆ … ┆ 31.0      ┆ 34.0      ┆ 1.0       ┆ 0.0      │\n",
       "│ 0 23:42:4 ┆ 6         ┆ ess       ┆           ┆   ┆           ┆           ┆           ┆          │\n",
       "│ 5.291031  ┆ 22:00:00  ┆           ┆           ┆   ┆           ┆           ┆           ┆          │\n",
       "│ UTC       ┆ UTC       ┆           ┆           ┆   ┆           ┆           ┆           ┆          │\n",
       "│ 2025-01-1 ┆ 2025-01-1 ┆ dmi_seaml ┆ 57.312023 ┆ … ┆ 29.0      ┆ 30.0      ┆ 3.0       ┆ 0.0      │\n",
       "│ 0 23:42:4 ┆ 6         ┆ ess       ┆           ┆   ┆           ┆           ┆           ┆          │\n",
       "│ 5.291031  ┆ 23:00:00  ┆           ┆           ┆   ┆           ┆           ┆           ┆          │\n",
       "│ UTC       ┆ UTC       ┆           ┆           ┆   ┆           ┆           ┆           ┆          │\n",
       "└───────────┴───────────┴───────────┴───────────┴───┴───────────┴───────────┴───────────┴──────────┘"
      ]
     },
     "metadata": {},
     "output_type": "display_data"
    },
    {
     "data": {
      "text/html": [
       "<div><style>\n",
       ".dataframe > thead > tr,\n",
       ".dataframe > tbody > tr {\n",
       "  text-align: right;\n",
       "  white-space: pre-wrap;\n",
       "}\n",
       "</style>\n",
       "<small>shape: (13, 23)</small><table border=\"1\" class=\"dataframe\"><thead><tr><th>created_at</th><th>date</th><th>model</th><th>latitude</th><th>longitude</th><th>elevation</th><th>temperature</th><th>wind_speed</th><th>wind_direction</th><th>relative_humidity</th><th>dew_point</th><th>apparent_temperature</th><th>precipitation</th><th>precipitation_probability</th><th>rain</th><th>showers</th><th>snowfall</th><th>snow_depth</th><th>weather_code</th><th>cloud_cover</th><th>cloud_cover_low</th><th>cloud_cover_mid</th><th>cloud_cover_high</th></tr><tr><td>datetime[μs, UTC]</td><td>datetime[μs, UTC]</td><td>str</td><td>f64</td><td>f64</td><td>f64</td><td>f64</td><td>f64</td><td>f64</td><td>f64</td><td>f64</td><td>f64</td><td>f64</td><td>f64</td><td>f64</td><td>f64</td><td>f64</td><td>f64</td><td>f64</td><td>f64</td><td>f64</td><td>f64</td><td>f64</td></tr></thead><tbody><tr><td>2025-01-10 23:42:45.298520 UTC</td><td>2025-01-10 23:30:00 UTC</td><td>&quot;icon_seamless&quot;</td><td>57.3125</td><td>25.375</td><td>115.0</td><td>0.45</td><td>3.195309</td><td>159.863617</td><td>86.0</td><td>-1.619737</td><td>-3.589826</td><td>0.0</td><td>0.0</td><td>0.0</td><td>0.0</td><td>0.0</td><td>0.0</td><td>3.0</td><td>100.0</td><td>84.0</td><td>100.0</td><td>100.0</td></tr><tr><td>2025-01-10 23:42:45.301214 UTC</td><td>2025-01-10 23:30:00 UTC</td><td>&quot;gfs_seamless&quot;</td><td>57.34462</td><td>25.3125</td><td>115.0</td><td>-0.15</td><td>3.712142</td><td>175.364624</td><td>86.0</td><td>-2.209592</td><td>-4.541587</td><td>0.0</td><td>1.0</td><td>0.0</td><td>0.0</td><td>0.0</td><td>0.07</td><td>3.0</td><td>100.0</td><td>71.0</td><td>100.0</td><td>100.0</td></tr><tr><td>2025-01-10 23:42:45.303488 UTC</td><td>2025-01-10 23:30:00 UTC</td><td>&quot;meteofrance_seamless&quot;</td><td>57.299999</td><td>25.400002</td><td>115.0</td><td>0.05</td><td>3.573514</td><td>162.071991</td><td>90.0</td><td>-1.394829</td><td>-4.157052</td><td>0.0</td><td>9.0</td><td>0.0</td><td>0.0</td><td>0.0</td><td>NaN</td><td>3.0</td><td>100.0</td><td>80.0</td><td>82.0</td><td>10.0</td></tr><tr><td>2025-01-10 23:42:45.305789 UTC</td><td>2025-01-10 23:30:00 UTC</td><td>&quot;ecmwf_ifs025&quot;</td><td>57.25</td><td>25.25</td><td>115.0</td><td>0.55</td><td>3.640055</td><td>159.075424</td><td>87.0</td><td>NaN</td><td>-3.687501</td><td>0.0</td><td>0.0</td><td>0.0</td><td>0.0</td><td>0.0</td><td>NaN</td><td>3.0</td><td>85.0</td><td>81.0</td><td>31.0</td><td>0.0</td></tr><tr><td>2025-01-10 23:42:45.308154 UTC</td><td>2025-01-10 23:30:00 UTC</td><td>&quot;ecmwf_aifs025&quot;</td><td>57.25</td><td>25.25</td><td>115.0</td><td>0.55</td><td>3.992493</td><td>157.932053</td><td>89.0</td><td>NaN</td><td>-3.828312</td><td>0.1</td><td>NaN</td><td>0.1</td><td>0.0</td><td>0.0</td><td>NaN</td><td>51.0</td><td>42.0</td><td>40.0</td><td>10.0</td><td>0.0</td></tr><tr><td>&hellip;</td><td>&hellip;</td><td>&hellip;</td><td>&hellip;</td><td>&hellip;</td><td>&hellip;</td><td>&hellip;</td><td>&hellip;</td><td>&hellip;</td><td>&hellip;</td><td>&hellip;</td><td>&hellip;</td><td>&hellip;</td><td>&hellip;</td><td>&hellip;</td><td>&hellip;</td><td>&hellip;</td><td>&hellip;</td><td>&hellip;</td><td>&hellip;</td><td>&hellip;</td><td>&hellip;</td><td>&hellip;</td></tr><tr><td>2025-01-10 23:42:45.317091 UTC</td><td>2025-01-10 23:30:00 UTC</td><td>&quot;gem_seamless&quot;</td><td>57.300003</td><td>25.350006</td><td>115.0</td><td>0.6</td><td>3.6</td><td>163.0</td><td>90.0</td><td>-0.851354</td><td>-3.542936</td><td>0.0</td><td>1.0</td><td>0.0</td><td>0.0</td><td>0.0</td><td>0.0</td><td>2.0</td><td>68.0</td><td>22.787422</td><td>2.079445</td><td>0.0</td></tr><tr><td>2025-01-10 23:42:45.318689 UTC</td><td>2025-01-10 23:30:00 UTC</td><td>&quot;bom_access_global&quot;</td><td>57.363281</td><td>25.400391</td><td>115.0</td><td>0.75</td><td>3.8</td><td>177.0</td><td>91.0</td><td>-0.55155</td><td>-3.453746</td><td>0.0</td><td>3.0</td><td>0.0</td><td>0.0</td><td>0.0</td><td>0.0</td><td>3.0</td><td>100.0</td><td>14.0</td><td>75.0</td><td>100.0</td></tr><tr><td>2025-01-10 23:42:45.320406 UTC</td><td>2025-01-10 23:30:00 UTC</td><td>&quot;cma_grapes_global&quot;</td><td>57.3125</td><td>25.375</td><td>115.0</td><td>-1.4</td><td>3.9</td><td>157.380096</td><td>96.0</td><td>-1.95517</td><td>-5.856306</td><td>0.0</td><td>NaN</td><td>0.0</td><td>0.0</td><td>0.0</td><td>0.2</td><td>2.0</td><td>56.0</td><td>52.0</td><td>1.0</td><td>56.0</td></tr><tr><td>2025-01-10 23:42:45.322111 UTC</td><td>2025-01-10 23:30:00 UTC</td><td>&quot;knmi_seamless&quot;</td><td>57.306705</td><td>25.372147</td><td>115.0</td><td>0.5</td><td>2.7</td><td>168.0</td><td>87.0</td><td>-1.413117</td><td>-3.250916</td><td>0.0</td><td>0.0</td><td>0.0</td><td>0.0</td><td>0.0</td><td>NaN</td><td>3.0</td><td>100.0</td><td>99.0</td><td>1.0</td><td>10.0</td></tr><tr><td>2025-01-10 23:42:45.323849 UTC</td><td>2025-01-10 23:30:00 UTC</td><td>&quot;dmi_seamless&quot;</td><td>57.312023</td><td>25.36145</td><td>115.0</td><td>0.65</td><td>2.2</td><td>161.0</td><td>88.0</td><td>-1.109405</td><td>-2.795247</td><td>0.0</td><td>0.0</td><td>0.0</td><td>0.0</td><td>0.0</td><td>NaN</td><td>3.0</td><td>100.0</td><td>100.0</td><td>0.0</td><td>100.0</td></tr></tbody></table></div>"
      ],
      "text/plain": [
       "shape: (13, 23)\n",
       "┌───────────┬───────────┬───────────┬───────────┬───┬───────────┬───────────┬───────────┬──────────┐\n",
       "│ created_a ┆ date      ┆ model     ┆ latitude  ┆ … ┆ cloud_cov ┆ cloud_cov ┆ cloud_cov ┆ cloud_co │\n",
       "│ t         ┆ ---       ┆ ---       ┆ ---       ┆   ┆ er        ┆ er_low    ┆ er_mid    ┆ ver_high │\n",
       "│ ---       ┆ datetime[ ┆ str       ┆ f64       ┆   ┆ ---       ┆ ---       ┆ ---       ┆ ---      │\n",
       "│ datetime[ ┆ μs, UTC]  ┆           ┆           ┆   ┆ f64       ┆ f64       ┆ f64       ┆ f64      │\n",
       "│ μs, UTC]  ┆           ┆           ┆           ┆   ┆           ┆           ┆           ┆          │\n",
       "╞═══════════╪═══════════╪═══════════╪═══════════╪═══╪═══════════╪═══════════╪═══════════╪══════════╡\n",
       "│ 2025-01-1 ┆ 2025-01-1 ┆ icon_seam ┆ 57.3125   ┆ … ┆ 100.0     ┆ 84.0      ┆ 100.0     ┆ 100.0    │\n",
       "│ 0 23:42:4 ┆ 0         ┆ less      ┆           ┆   ┆           ┆           ┆           ┆          │\n",
       "│ 5.298520  ┆ 23:30:00  ┆           ┆           ┆   ┆           ┆           ┆           ┆          │\n",
       "│ UTC       ┆ UTC       ┆           ┆           ┆   ┆           ┆           ┆           ┆          │\n",
       "│ 2025-01-1 ┆ 2025-01-1 ┆ gfs_seaml ┆ 57.34462  ┆ … ┆ 100.0     ┆ 71.0      ┆ 100.0     ┆ 100.0    │\n",
       "│ 0 23:42:4 ┆ 0         ┆ ess       ┆           ┆   ┆           ┆           ┆           ┆          │\n",
       "│ 5.301214  ┆ 23:30:00  ┆           ┆           ┆   ┆           ┆           ┆           ┆          │\n",
       "│ UTC       ┆ UTC       ┆           ┆           ┆   ┆           ┆           ┆           ┆          │\n",
       "│ 2025-01-1 ┆ 2025-01-1 ┆ meteofran ┆ 57.299999 ┆ … ┆ 100.0     ┆ 80.0      ┆ 82.0      ┆ 10.0     │\n",
       "│ 0 23:42:4 ┆ 0         ┆ ce_seamle ┆           ┆   ┆           ┆           ┆           ┆          │\n",
       "│ 5.303488  ┆ 23:30:00  ┆ ss        ┆           ┆   ┆           ┆           ┆           ┆          │\n",
       "│ UTC       ┆ UTC       ┆           ┆           ┆   ┆           ┆           ┆           ┆          │\n",
       "│ 2025-01-1 ┆ 2025-01-1 ┆ ecmwf_ifs ┆ 57.25     ┆ … ┆ 85.0      ┆ 81.0      ┆ 31.0      ┆ 0.0      │\n",
       "│ 0 23:42:4 ┆ 0         ┆ 025       ┆           ┆   ┆           ┆           ┆           ┆          │\n",
       "│ 5.305789  ┆ 23:30:00  ┆           ┆           ┆   ┆           ┆           ┆           ┆          │\n",
       "│ UTC       ┆ UTC       ┆           ┆           ┆   ┆           ┆           ┆           ┆          │\n",
       "│ 2025-01-1 ┆ 2025-01-1 ┆ ecmwf_aif ┆ 57.25     ┆ … ┆ 42.0      ┆ 40.0      ┆ 10.0      ┆ 0.0      │\n",
       "│ 0 23:42:4 ┆ 0         ┆ s025      ┆           ┆   ┆           ┆           ┆           ┆          │\n",
       "│ 5.308154  ┆ 23:30:00  ┆           ┆           ┆   ┆           ┆           ┆           ┆          │\n",
       "│ UTC       ┆ UTC       ┆           ┆           ┆   ┆           ┆           ┆           ┆          │\n",
       "│ …         ┆ …         ┆ …         ┆ …         ┆ … ┆ …         ┆ …         ┆ …         ┆ …        │\n",
       "│ 2025-01-1 ┆ 2025-01-1 ┆ gem_seaml ┆ 57.300003 ┆ … ┆ 68.0      ┆ 22.787422 ┆ 2.079445  ┆ 0.0      │\n",
       "│ 0 23:42:4 ┆ 0         ┆ ess       ┆           ┆   ┆           ┆           ┆           ┆          │\n",
       "│ 5.317091  ┆ 23:30:00  ┆           ┆           ┆   ┆           ┆           ┆           ┆          │\n",
       "│ UTC       ┆ UTC       ┆           ┆           ┆   ┆           ┆           ┆           ┆          │\n",
       "│ 2025-01-1 ┆ 2025-01-1 ┆ bom_acces ┆ 57.363281 ┆ … ┆ 100.0     ┆ 14.0      ┆ 75.0      ┆ 100.0    │\n",
       "│ 0 23:42:4 ┆ 0         ┆ s_global  ┆           ┆   ┆           ┆           ┆           ┆          │\n",
       "│ 5.318689  ┆ 23:30:00  ┆           ┆           ┆   ┆           ┆           ┆           ┆          │\n",
       "│ UTC       ┆ UTC       ┆           ┆           ┆   ┆           ┆           ┆           ┆          │\n",
       "│ 2025-01-1 ┆ 2025-01-1 ┆ cma_grape ┆ 57.3125   ┆ … ┆ 56.0      ┆ 52.0      ┆ 1.0       ┆ 56.0     │\n",
       "│ 0 23:42:4 ┆ 0         ┆ s_global  ┆           ┆   ┆           ┆           ┆           ┆          │\n",
       "│ 5.320406  ┆ 23:30:00  ┆           ┆           ┆   ┆           ┆           ┆           ┆          │\n",
       "│ UTC       ┆ UTC       ┆           ┆           ┆   ┆           ┆           ┆           ┆          │\n",
       "│ 2025-01-1 ┆ 2025-01-1 ┆ knmi_seam ┆ 57.306705 ┆ … ┆ 100.0     ┆ 99.0      ┆ 1.0       ┆ 10.0     │\n",
       "│ 0 23:42:4 ┆ 0         ┆ less      ┆           ┆   ┆           ┆           ┆           ┆          │\n",
       "│ 5.322111  ┆ 23:30:00  ┆           ┆           ┆   ┆           ┆           ┆           ┆          │\n",
       "│ UTC       ┆ UTC       ┆           ┆           ┆   ┆           ┆           ┆           ┆          │\n",
       "│ 2025-01-1 ┆ 2025-01-1 ┆ dmi_seaml ┆ 57.312023 ┆ … ┆ 100.0     ┆ 100.0     ┆ 0.0       ┆ 100.0    │\n",
       "│ 0 23:42:4 ┆ 0         ┆ ess       ┆           ┆   ┆           ┆           ┆           ┆          │\n",
       "│ 5.323849  ┆ 23:30:00  ┆           ┆           ┆   ┆           ┆           ┆           ┆          │\n",
       "│ UTC       ┆ UTC       ┆           ┆           ┆   ┆           ┆           ┆           ┆          │\n",
       "└───────────┴───────────┴───────────┴───────────┴───┴───────────┴───────────┴───────────┴──────────┘"
      ]
     },
     "metadata": {},
     "output_type": "display_data"
    }
   ],
   "source": [
    "forecaster = Forecast()\n",
    "hourly_data, current_data = forecaster.get_data(57.3046898, 25.3627957)\n",
    "display(hourly_data)\n",
    "display(current_data)"
   ]
  },
  {
   "cell_type": "code",
   "execution_count": 7,
   "metadata": {},
   "outputs": [
    {
     "name": "stdout",
     "output_type": "stream",
     "text": [
      "Coordinates 57.30215835571289°N 25.3603515625°E\n",
      "Elevation 115.0 m asl\n",
      "Timezone None None\n",
      "Timezone difference to GMT+0 0 s\n"
     ]
    }
   ],
   "source": [
    "# Setup the Open-Meteo API client with cache and retry on error\n",
    "cache_session = requests_cache.CachedSession('.cache', expire_after = 3600)\n",
    "retry_session = retry(cache_session, retries = 5, backoff_factor = 0.2)\n",
    "openmeteo = openmeteo_requests.Client(session = retry_session)\n",
    "\n",
    "# Make sure all required weather variables are listed here\n",
    "# The order of variables in hourly or daily is important to assign them correctly below\n",
    "url = \"https://api.open-meteo.com/v1/forecast\"\n",
    "params = {\n",
    "\t\"latitude\": 57.3046898,\n",
    "\t\"longitude\": 25.3627957,\n",
    "\t\"hourly\": [\"temperature_2m\", \"wind_speed_10m\", \"wind_direction_10m\", \"relative_humidity_2m\"],\n",
    "    \"wind_speed_unit\": \"ms\",\n",
    "    # \"models\": all_models\n",
    "}\n",
    "responses = openmeteo.weather_api(url, params=params)\n",
    "\n",
    "# Process first location. Add a for-loop for multiple locations or weather models\n",
    "response = responses[0]\n",
    "print(f\"Coordinates {response.Latitude()}°N {response.Longitude()}°E\")\n",
    "print(f\"Elevation {response.Elevation()} m asl\")\n",
    "print(f\"Timezone {response.Timezone()} {response.TimezoneAbbreviation()}\")\n",
    "print(f\"Timezone difference to GMT+0 {response.UtcOffsetSeconds()} s\")\n",
    "\n"
   ]
  },
  {
   "cell_type": "code",
   "execution_count": 8,
   "metadata": {},
   "outputs": [
    {
     "name": "stdout",
     "output_type": "stream",
     "text": [
      "best_match\n"
     ]
    }
   ],
   "source": [
    "def model_to_name(code):\n",
    "    \"\"\"convert Model to name\"\"\"\n",
    "    for name, value in Model.Model.__dict__.items():\n",
    "        if value == code and not name.startswith(\"_\"):\n",
    "            return name\n",
    "    return None\n",
    "\n",
    "for response in responses:\n",
    "    print(model_to_name(response.Model()))\n",
    "\n",
    "valid_models = list(set([model_to_name(response.Model()) for response in responses]))\n"
   ]
  },
  {
   "cell_type": "code",
   "execution_count": 9,
   "metadata": {},
   "outputs": [
    {
     "data": {
      "text/plain": [
       "47"
      ]
     },
     "execution_count": 9,
     "metadata": {},
     "output_type": "execute_result"
    }
   ],
   "source": [
    "response.Hourly().Variables(0).Variable()"
   ]
  },
  {
   "cell_type": "code",
   "execution_count": 10,
   "metadata": {},
   "outputs": [],
   "source": [
    "import csv\n",
    "\n",
    "with open(\"valid_models.csv\", 'w') as myfile:\n",
    "    wr = csv.writer(myfile, quoting=csv.QUOTE_ALL)\n",
    "    wr.writerow(valid_models)"
   ]
  },
  {
   "cell_type": "code",
   "execution_count": 12,
   "metadata": {},
   "outputs": [
    {
     "data": {
      "text/plain": [
       "59"
      ]
     },
     "execution_count": 12,
     "metadata": {},
     "output_type": "execute_result"
    }
   ],
   "source": [
    "dir(response.Hourly().Variables(1))\n",
    "response.Hourly().Variables(1).Variable()"
   ]
  },
  {
   "cell_type": "code",
   "execution_count": 13,
   "metadata": {},
   "outputs": [
    {
     "data": {
      "text/html": [
       "<div><style>\n",
       ".dataframe > thead > tr,\n",
       ".dataframe > tbody > tr {\n",
       "  text-align: right;\n",
       "  white-space: pre-wrap;\n",
       "}\n",
       "</style>\n",
       "<small>shape: (168, 5)</small><table border=\"1\" class=\"dataframe\"><thead><tr><th>date</th><th>temperature_2m</th><th>wind_speed_10m</th><th>wind_direction_10m</th><th>relative_humidity_2m</th></tr><tr><td>datetime[μs, UTC]</td><td>f32</td><td>f32</td><td>f32</td><td>f32</td></tr></thead><tbody><tr><td>2025-01-10 00:00:00 UTC</td><td>0.0025</td><td>2.7</td><td>98.0</td><td>90.0</td></tr><tr><td>2025-01-10 01:00:00 UTC</td><td>0.0525</td><td>3.3</td><td>96.0</td><td>90.0</td></tr><tr><td>2025-01-10 02:00:00 UTC</td><td>0.0025</td><td>3.8</td><td>91.0</td><td>92.0</td></tr><tr><td>2025-01-10 03:00:00 UTC</td><td>0.0025</td><td>3.8</td><td>85.0</td><td>92.0</td></tr><tr><td>2025-01-10 04:00:00 UTC</td><td>0.0525</td><td>4.0</td><td>88.0</td><td>96.0</td></tr><tr><td>&hellip;</td><td>&hellip;</td><td>&hellip;</td><td>&hellip;</td><td>&hellip;</td></tr><tr><td>2025-01-16 19:00:00 UTC</td><td>3.65</td><td>4.916299</td><td>274.666779</td><td>99.0</td></tr><tr><td>2025-01-16 20:00:00 UTC</td><td>3.2</td><td>4.726521</td><td>276.072357</td><td>98.0</td></tr><tr><td>2025-01-16 21:00:00 UTC</td><td>2.75</td><td>4.428318</td><td>276.482971</td><td>98.0</td></tr><tr><td>2025-01-16 22:00:00 UTC</td><td>2.25</td><td>4.119466</td><td>275.572113</td><td>98.0</td></tr><tr><td>2025-01-16 23:00:00 UTC</td><td>1.7</td><td>3.811824</td><td>274.513885</td><td>98.0</td></tr></tbody></table></div>"
      ],
      "text/plain": [
       "shape: (168, 5)\n",
       "┌─────────────────────┬────────────────┬────────────────┬────────────────────┬─────────────────────┐\n",
       "│ date                ┆ temperature_2m ┆ wind_speed_10m ┆ wind_direction_10m ┆ relative_humidity_2 │\n",
       "│ ---                 ┆ ---            ┆ ---            ┆ ---                ┆ m                   │\n",
       "│ datetime[μs, UTC]   ┆ f32            ┆ f32            ┆ f32                ┆ ---                 │\n",
       "│                     ┆                ┆                ┆                    ┆ f32                 │\n",
       "╞═════════════════════╪════════════════╪════════════════╪════════════════════╪═════════════════════╡\n",
       "│ 2025-01-10 00:00:00 ┆ 0.0025         ┆ 2.7            ┆ 98.0               ┆ 90.0                │\n",
       "│ UTC                 ┆                ┆                ┆                    ┆                     │\n",
       "│ 2025-01-10 01:00:00 ┆ 0.0525         ┆ 3.3            ┆ 96.0               ┆ 90.0                │\n",
       "│ UTC                 ┆                ┆                ┆                    ┆                     │\n",
       "│ 2025-01-10 02:00:00 ┆ 0.0025         ┆ 3.8            ┆ 91.0               ┆ 92.0                │\n",
       "│ UTC                 ┆                ┆                ┆                    ┆                     │\n",
       "│ 2025-01-10 03:00:00 ┆ 0.0025         ┆ 3.8            ┆ 85.0               ┆ 92.0                │\n",
       "│ UTC                 ┆                ┆                ┆                    ┆                     │\n",
       "│ 2025-01-10 04:00:00 ┆ 0.0525         ┆ 4.0            ┆ 88.0               ┆ 96.0                │\n",
       "│ UTC                 ┆                ┆                ┆                    ┆                     │\n",
       "│ …                   ┆ …              ┆ …              ┆ …                  ┆ …                   │\n",
       "│ 2025-01-16 19:00:00 ┆ 3.65           ┆ 4.916299       ┆ 274.666779         ┆ 99.0                │\n",
       "│ UTC                 ┆                ┆                ┆                    ┆                     │\n",
       "│ 2025-01-16 20:00:00 ┆ 3.2            ┆ 4.726521       ┆ 276.072357         ┆ 98.0                │\n",
       "│ UTC                 ┆                ┆                ┆                    ┆                     │\n",
       "│ 2025-01-16 21:00:00 ┆ 2.75           ┆ 4.428318       ┆ 276.482971         ┆ 98.0                │\n",
       "│ UTC                 ┆                ┆                ┆                    ┆                     │\n",
       "│ 2025-01-16 22:00:00 ┆ 2.25           ┆ 4.119466       ┆ 275.572113         ┆ 98.0                │\n",
       "│ UTC                 ┆                ┆                ┆                    ┆                     │\n",
       "│ 2025-01-16 23:00:00 ┆ 1.7            ┆ 3.811824       ┆ 274.513885         ┆ 98.0                │\n",
       "│ UTC                 ┆                ┆                ┆                    ┆                     │\n",
       "└─────────────────────┴────────────────┴────────────────┴────────────────────┴─────────────────────┘"
      ]
     },
     "execution_count": 13,
     "metadata": {},
     "output_type": "execute_result"
    }
   ],
   "source": [
    "# Process hourly data. The order of variables needs to be the same as requested.\n",
    "hourly = response.Hourly()\n",
    "# hourly_temperature_2m = hourly.Variables(0).ValuesAsNumpy()\n",
    "\n",
    "# hourly_data = {\"date\": pd.date_range(\n",
    "# \tstart = pd.to_datetime(hourly.Time(), unit = \"s\", utc = True),\n",
    "# \tend = pd.to_datetime(hourly.TimeEnd(), unit = \"s\", utc = True),\n",
    "# \tfreq = pd.Timedelta(seconds = hourly.Interval()),\n",
    "# \tinclusive = \"left\"\n",
    "# )}\n",
    "# hourly_data[\"temperature_2m\"] = hourly_temperature_2m\n",
    "# hourly_data[\"wind_speed_10m\"] = hourly.Variables(1).ValuesAsNumpy()\n",
    "# hourly_data[\"wind_direction_10m\"] = hourly.Variables(2).ValuesAsNumpy()\n",
    "# hourly_data[\"relative_humidity_2m\"] = hourly.Variables(3).ValuesAsNumpy()\n",
    "\n",
    "# hourly_dataframe = pd.DataFrame(data = hourly_data)\n",
    "# print(hourly_dataframe)\n",
    "\n",
    "start = datetime.fromtimestamp(hourly.Time(), timezone.utc)\n",
    "end = datetime.fromtimestamp(hourly.TimeEnd(), timezone.utc)\n",
    "freq = timedelta(seconds = hourly.Interval())\n",
    "\n",
    "hourly_dataframe_pl = pl.select(\n",
    "    date = pl.datetime_range(start, end, freq, closed = \"left\"),\n",
    "    temperature_2m = hourly.Variables(0).ValuesAsNumpy(),\n",
    "    wind_speed_10m = hourly.Variables(1).ValuesAsNumpy(),\n",
    "    wind_direction_10m = hourly.Variables(2).ValuesAsNumpy(),\n",
    "    relative_humidity_2m = hourly.Variables(3).ValuesAsNumpy()\n",
    ")\n",
    "hourly_dataframe_pl"
   ]
  },
  {
   "cell_type": "code",
   "execution_count": 14,
   "metadata": {},
   "outputs": [
    {
     "data": {
      "text/plain": [
       "1736467200"
      ]
     },
     "execution_count": 14,
     "metadata": {},
     "output_type": "execute_result"
    }
   ],
   "source": [
    "hourly.Time()"
   ]
  },
  {
   "cell_type": "code",
   "execution_count": 16,
   "metadata": {},
   "outputs": [
    {
     "name": "stdout",
     "output_type": "stream",
     "text": [
      "latitude: 57.3046898\n",
      "<class 'float'>\n",
      "longitude: 25.3627957\n",
      "<class 'float'>\n",
      "hourly: ['temperature_2m', 'wind_speed_10m', 'wind_direction_10m', 'relative_humidity_2m']\n",
      "<class 'list'>\n",
      "wind_speed_unit: ms\n",
      "<class 'str'>\n",
      "timezone: Europe/Riga\n",
      "<class 'str'>\n"
     ]
    }
   ],
   "source": [
    "import dagster\n",
    "class MDConfig(dagster.Config):\n",
    "    # hourly_data_path: str = os.path.join(os.path.dirname(__file__), \"data\", \"hourly_data.csv\")\n",
    "    hourly_data_columns: list[str] = [\"temperature_2m\", \"wind_speed_10m\", \"wind_direction_10m\", \"relative_humidity_2m\"]\n",
    "\n",
    "config = MDConfig()\n",
    "\n",
    "params = {\n",
    "\t\"latitude\": 57.3046898,\n",
    "\t\"longitude\": 25.3627957,\n",
    "\t\"hourly\": config.hourly_data_columns,\n",
    "    # \"hourly\": [\"temperature_2m\", \"wind_speed_10m\", \"wind_direction_10m\", \"relative_humidity_2m\"],\n",
    "    \"wind_speed_unit\": \"ms\",\n",
    "    \"timezone\": \"Europe/Riga\"\n",
    "}\n",
    "\n",
    "for key, value in params.items():\n",
    "    print(f\"{key}: {value}\")\n",
    "    print(type(value))\n",
    "\n",
    "responses = openmeteo.weather_api(url, params=params)\n"
   ]
  },
  {
   "cell_type": "code",
   "execution_count": 17,
   "metadata": {},
   "outputs": [],
   "source": [
    "extremes = {\n",
    "    \"north\": 58.085137,\n",
    "    \"south\": 55.674971,\n",
    "    \"east\": 28.241043,\n",
    "    \"west\": 20.970154\n",
    "}"
   ]
  },
  {
   "cell_type": "code",
   "execution_count": 18,
   "metadata": {},
   "outputs": [
    {
     "data": {
      "text/plain": [
       "0.33148161112073143"
      ]
     },
     "execution_count": 18,
     "metadata": {},
     "output_type": "execute_result"
    }
   ],
   "source": [
    "(extremes[\"north\"] - extremes[\"south\"]) / (extremes[\"east\"] - extremes[\"west\"])"
   ]
  },
  {
   "cell_type": "code",
   "execution_count": 19,
   "metadata": {},
   "outputs": [],
   "source": [
    "n_long = 45"
   ]
  },
  {
   "cell_type": "code",
   "execution_count": 20,
   "metadata": {},
   "outputs": [
    {
     "data": {
      "text/html": [
       "<div>\n",
       "<style scoped>\n",
       "    .dataframe tbody tr th:only-of-type {\n",
       "        vertical-align: middle;\n",
       "    }\n",
       "\n",
       "    .dataframe tbody tr th {\n",
       "        vertical-align: top;\n",
       "    }\n",
       "\n",
       "    .dataframe thead th {\n",
       "        text-align: right;\n",
       "    }\n",
       "</style>\n",
       "<table border=\"1\" class=\"dataframe\">\n",
       "  <thead>\n",
       "    <tr style=\"text-align: right;\">\n",
       "      <th></th>\n",
       "      <th>geometry</th>\n",
       "      <th>address</th>\n",
       "    </tr>\n",
       "  </thead>\n",
       "  <tbody>\n",
       "    <tr>\n",
       "      <th>0</th>\n",
       "      <td>POINT (24.10518 56.9494)</td>\n",
       "      <td>Rīga, Latvija</td>\n",
       "    </tr>\n",
       "  </tbody>\n",
       "</table>\n",
       "</div>"
      ],
      "text/plain": [
       "                   geometry        address\n",
       "0  POINT (24.10518 56.9494)  Rīga, Latvija"
      ]
     },
     "execution_count": 20,
     "metadata": {},
     "output_type": "execute_result"
    }
   ],
   "source": [
    "import geopandas as gpd\n",
    "\n",
    "gpd.tools.geocode(\"Riga, Latvia\")"
   ]
  },
  {
   "cell_type": "code",
   "execution_count": 21,
   "metadata": {},
   "outputs": [
    {
     "data": {
      "text/plain": [
       "{'country_code': 'LV',\n",
       " 'city': 'Priekuļi',\n",
       " 'latitude': 57.315,\n",
       " 'longitude': 25.36147,\n",
       " 'population': 2532,\n",
       " 'state': 'Cēsis Municipality',\n",
       " 'county': 'Priekuļu pagasts',\n",
       " 'country': 'Latvia'}"
      ]
     },
     "execution_count": 21,
     "metadata": {},
     "output_type": "execute_result"
    }
   ],
   "source": [
    "import reverse_geocode\n",
    "reverse_geocode.get((57.3046898, 25.3627957))"
   ]
  },
  {
   "cell_type": "code",
   "execution_count": 22,
   "metadata": {},
   "outputs": [
    {
     "data": {
      "text/html": [
       "<div>\n",
       "<style scoped>\n",
       "    .dataframe tbody tr th:only-of-type {\n",
       "        vertical-align: middle;\n",
       "    }\n",
       "\n",
       "    .dataframe tbody tr th {\n",
       "        vertical-align: top;\n",
       "    }\n",
       "\n",
       "    .dataframe thead th {\n",
       "        text-align: right;\n",
       "    }\n",
       "</style>\n",
       "<table border=\"1\" class=\"dataframe\">\n",
       "  <thead>\n",
       "    <tr style=\"text-align: right;\">\n",
       "      <th></th>\n",
       "      <th>geometry</th>\n",
       "      <th>address</th>\n",
       "    </tr>\n",
       "  </thead>\n",
       "  <tbody>\n",
       "    <tr>\n",
       "      <th>0</th>\n",
       "      <td>POINT EMPTY</td>\n",
       "      <td>None</td>\n",
       "    </tr>\n",
       "    <tr>\n",
       "      <th>1</th>\n",
       "      <td>POINT EMPTY</td>\n",
       "      <td>None</td>\n",
       "    </tr>\n",
       "  </tbody>\n",
       "</table>\n",
       "</div>"
      ],
      "text/plain": [
       "      geometry address\n",
       "0  POINT EMPTY    None\n",
       "1  POINT EMPTY    None"
      ]
     },
     "execution_count": 22,
     "metadata": {},
     "output_type": "execute_result"
    }
   ],
   "source": [
    "import shapely\n",
    "gpd.tools.reverse_geocode([shapely.geometry.Point(57.3046898, 25.3627957),shapely.geometry.Point(57.3046898, 25.3627957)])"
   ]
  },
  {
   "cell_type": "code",
   "execution_count": 24,
   "metadata": {},
   "outputs": [
    {
     "name": "stderr",
     "output_type": "stream",
     "text": [
      "WARNING:urllib3.connectionpool:Retrying (Retry(total=1, connect=None, read=None, redirect=None, status=None)) after connection broken by 'ReadTimeoutError(\"HTTPSConnectionPool(host='photon.komoot.io', port=443): Read timed out. (read timeout=1)\")': /reverse?lat=25.3627957&lon=57.3046898&limit=1\n"
     ]
    },
    {
     "data": {
      "text/html": [
       "<div>\n",
       "<style scoped>\n",
       "    .dataframe tbody tr th:only-of-type {\n",
       "        vertical-align: middle;\n",
       "    }\n",
       "\n",
       "    .dataframe tbody tr th {\n",
       "        vertical-align: top;\n",
       "    }\n",
       "\n",
       "    .dataframe thead th {\n",
       "        text-align: right;\n",
       "    }\n",
       "</style>\n",
       "<table border=\"1\" class=\"dataframe\">\n",
       "  <thead>\n",
       "    <tr style=\"text-align: right;\">\n",
       "      <th></th>\n",
       "      <th>geometry</th>\n",
       "      <th>address</th>\n",
       "    </tr>\n",
       "  </thead>\n",
       "  <tbody>\n",
       "    <tr>\n",
       "      <th>0</th>\n",
       "      <td>POINT (-71.05958 42.35862)</td>\n",
       "      <td>18-32, Tremont Street, 02108, Tremont Street, ...</td>\n",
       "    </tr>\n",
       "    <tr>\n",
       "      <th>1</th>\n",
       "      <td>POINT (-77.03655 38.8977)</td>\n",
       "      <td>White House, 1600, Pennsylvania Avenue Northwe...</td>\n",
       "    </tr>\n",
       "    <tr>\n",
       "      <th>2</th>\n",
       "      <td>POINT EMPTY</td>\n",
       "      <td>None</td>\n",
       "    </tr>\n",
       "    <tr>\n",
       "      <th>3</th>\n",
       "      <td>POINT EMPTY</td>\n",
       "      <td>None</td>\n",
       "    </tr>\n",
       "  </tbody>\n",
       "</table>\n",
       "</div>"
      ],
      "text/plain": [
       "                     geometry  \\\n",
       "0  POINT (-71.05958 42.35862)   \n",
       "1   POINT (-77.03655 38.8977)   \n",
       "2                 POINT EMPTY   \n",
       "3                 POINT EMPTY   \n",
       "\n",
       "                                             address  \n",
       "0  18-32, Tremont Street, 02108, Tremont Street, ...  \n",
       "1  White House, 1600, Pennsylvania Avenue Northwe...  \n",
       "2                                               None  \n",
       "3                                               None  "
      ]
     },
     "execution_count": 24,
     "metadata": {},
     "output_type": "execute_result"
    }
   ],
   "source": [
    "gpd.tools.reverse_geocode(  \n",
    "    [shapely.geometry.Point(-71.0594869, 42.3584697), shapely.geometry.Point(-77.0365305, 38.8977332),\n",
    "     shapely.geometry.Point(57.315, 25.36147), shapely.geometry.Point(57.3046898, 25.3627957)\n",
    "    ]\n",
    ")"
   ]
  },
  {
   "cell_type": "code",
   "execution_count": 26,
   "metadata": {},
   "outputs": [
    {
     "data": {
      "text/html": [
       "<div>\n",
       "<style scoped>\n",
       "    .dataframe tbody tr th:only-of-type {\n",
       "        vertical-align: middle;\n",
       "    }\n",
       "\n",
       "    .dataframe tbody tr th {\n",
       "        vertical-align: top;\n",
       "    }\n",
       "\n",
       "    .dataframe thead th {\n",
       "        text-align: right;\n",
       "    }\n",
       "</style>\n",
       "<table border=\"1\" class=\"dataframe\">\n",
       "  <thead>\n",
       "    <tr style=\"text-align: right;\">\n",
       "      <th></th>\n",
       "      <th>geometry</th>\n",
       "    </tr>\n",
       "  </thead>\n",
       "  <tbody>\n",
       "    <tr>\n",
       "      <th>0</th>\n",
       "      <td>POLYGON ((4870000 3670000, 4870000 3680000, 48...</td>\n",
       "    </tr>\n",
       "    <tr>\n",
       "      <th>1</th>\n",
       "      <td>POLYGON ((4870000 3680000, 4870000 3690000, 48...</td>\n",
       "    </tr>\n",
       "    <tr>\n",
       "      <th>2</th>\n",
       "      <td>POLYGON ((4870000 3690000, 4870000 3700000, 48...</td>\n",
       "    </tr>\n",
       "    <tr>\n",
       "      <th>3</th>\n",
       "      <td>POLYGON ((4870000 3700000, 4870000 3710000, 48...</td>\n",
       "    </tr>\n",
       "    <tr>\n",
       "      <th>4</th>\n",
       "      <td>POLYGON ((4870000 3710000, 4870000 3720000, 48...</td>\n",
       "    </tr>\n",
       "    <tr>\n",
       "      <th>...</th>\n",
       "      <td>...</td>\n",
       "    </tr>\n",
       "    <tr>\n",
       "      <th>1295</th>\n",
       "      <td>POLYGON ((5440000 3850000, 5440000 3860000, 54...</td>\n",
       "    </tr>\n",
       "    <tr>\n",
       "      <th>1296</th>\n",
       "      <td>POLYGON ((5450000 3800000, 5450000 3810000, 54...</td>\n",
       "    </tr>\n",
       "    <tr>\n",
       "      <th>1297</th>\n",
       "      <td>POLYGON ((5450000 3810000, 5450000 3820000, 54...</td>\n",
       "    </tr>\n",
       "    <tr>\n",
       "      <th>1298</th>\n",
       "      <td>POLYGON ((5450000 3820000, 5450000 3830000, 54...</td>\n",
       "    </tr>\n",
       "    <tr>\n",
       "      <th>1299</th>\n",
       "      <td>POLYGON ((5450000 3830000, 5450000 3840000, 54...</td>\n",
       "    </tr>\n",
       "  </tbody>\n",
       "</table>\n",
       "<p>1300 rows × 1 columns</p>\n",
       "</div>"
      ],
      "text/plain": [
       "                                               geometry\n",
       "0     POLYGON ((4870000 3670000, 4870000 3680000, 48...\n",
       "1     POLYGON ((4870000 3680000, 4870000 3690000, 48...\n",
       "2     POLYGON ((4870000 3690000, 4870000 3700000, 48...\n",
       "3     POLYGON ((4870000 3700000, 4870000 3710000, 48...\n",
       "4     POLYGON ((4870000 3710000, 4870000 3720000, 48...\n",
       "...                                                 ...\n",
       "1295  POLYGON ((5440000 3850000, 5440000 3860000, 54...\n",
       "1296  POLYGON ((5450000 3800000, 5450000 3810000, 54...\n",
       "1297  POLYGON ((5450000 3810000, 5450000 3820000, 54...\n",
       "1298  POLYGON ((5450000 3820000, 5450000 3830000, 54...\n",
       "1299  POLYGON ((5450000 3830000, 5450000 3840000, 54...\n",
       "\n",
       "[1300 rows x 1 columns]"
      ]
     },
     "execution_count": 26,
     "metadata": {},
     "output_type": "execute_result"
    }
   ],
   "source": [
    "gpd.read_file(\"shapfiles/lv_10km.shp\")\n"
   ]
  },
  {
   "cell_type": "code",
   "execution_count": 27,
   "metadata": {},
   "outputs": [],
   "source": [
    "countries = gpd.read_file(\"shapfiles/world-administrative-boundaries.shp\")\n"
   ]
  },
  {
   "cell_type": "code",
   "execution_count": 28,
   "metadata": {},
   "outputs": [
    {
     "data": {
      "text/html": [
       "<div>\n",
       "<style scoped>\n",
       "    .dataframe tbody tr th:only-of-type {\n",
       "        vertical-align: middle;\n",
       "    }\n",
       "\n",
       "    .dataframe tbody tr th {\n",
       "        vertical-align: top;\n",
       "    }\n",
       "\n",
       "    .dataframe thead th {\n",
       "        text-align: right;\n",
       "    }\n",
       "</style>\n",
       "<table border=\"1\" class=\"dataframe\">\n",
       "  <thead>\n",
       "    <tr style=\"text-align: right;\">\n",
       "      <th></th>\n",
       "      <th>iso3</th>\n",
       "      <th>status</th>\n",
       "      <th>color_code</th>\n",
       "      <th>name</th>\n",
       "      <th>continent</th>\n",
       "      <th>region</th>\n",
       "      <th>iso_3166_1_</th>\n",
       "      <th>french_shor</th>\n",
       "      <th>geometry</th>\n",
       "    </tr>\n",
       "  </thead>\n",
       "  <tbody>\n",
       "    <tr>\n",
       "      <th>0</th>\n",
       "      <td>MNP</td>\n",
       "      <td>US Territory</td>\n",
       "      <td>USA</td>\n",
       "      <td>Northern Mariana Islands</td>\n",
       "      <td>Oceania</td>\n",
       "      <td>Micronesia</td>\n",
       "      <td>MP</td>\n",
       "      <td>Northern Mariana Islands</td>\n",
       "      <td>MULTIPOLYGON (((145.63331 14.91236, 145.62412 ...</td>\n",
       "    </tr>\n",
       "    <tr>\n",
       "      <th>1</th>\n",
       "      <td>None</td>\n",
       "      <td>Sovereignty unsettled</td>\n",
       "      <td>RUS</td>\n",
       "      <td>Kuril Islands</td>\n",
       "      <td>Asia</td>\n",
       "      <td>Eastern Asia</td>\n",
       "      <td>None</td>\n",
       "      <td>Kuril Islands</td>\n",
       "      <td>MULTIPOLYGON (((146.68274 43.70777, 146.66664 ...</td>\n",
       "    </tr>\n",
       "    <tr>\n",
       "      <th>2</th>\n",
       "      <td>FRA</td>\n",
       "      <td>Member State</td>\n",
       "      <td>FRA</td>\n",
       "      <td>France</td>\n",
       "      <td>Europe</td>\n",
       "      <td>Western Europe</td>\n",
       "      <td>FR</td>\n",
       "      <td>France</td>\n",
       "      <td>MULTIPOLYGON (((9.4475 42.68305, 9.45014 42.63...</td>\n",
       "    </tr>\n",
       "    <tr>\n",
       "      <th>3</th>\n",
       "      <td>SRB</td>\n",
       "      <td>Member State</td>\n",
       "      <td>SRB</td>\n",
       "      <td>Serbia</td>\n",
       "      <td>Europe</td>\n",
       "      <td>Southern Europe</td>\n",
       "      <td>RS</td>\n",
       "      <td>Serbie</td>\n",
       "      <td>POLYGON ((20.26102 46.11485, 20.31403 46.06986...</td>\n",
       "    </tr>\n",
       "    <tr>\n",
       "      <th>4</th>\n",
       "      <td>URY</td>\n",
       "      <td>Member State</td>\n",
       "      <td>URY</td>\n",
       "      <td>Uruguay</td>\n",
       "      <td>Americas</td>\n",
       "      <td>South America</td>\n",
       "      <td>UY</td>\n",
       "      <td>Uruguay</td>\n",
       "      <td>POLYGON ((-53.3743 -33.74067, -53.39917 -33.75...</td>\n",
       "    </tr>\n",
       "  </tbody>\n",
       "</table>\n",
       "</div>"
      ],
      "text/plain": [
       "   iso3                 status color_code                      name continent  \\\n",
       "0   MNP           US Territory        USA  Northern Mariana Islands   Oceania   \n",
       "1  None  Sovereignty unsettled        RUS             Kuril Islands      Asia   \n",
       "2   FRA           Member State        FRA                    France    Europe   \n",
       "3   SRB           Member State        SRB                    Serbia    Europe   \n",
       "4   URY           Member State        URY                   Uruguay  Americas   \n",
       "\n",
       "            region iso_3166_1_               french_shor  \\\n",
       "0       Micronesia          MP  Northern Mariana Islands   \n",
       "1     Eastern Asia        None             Kuril Islands   \n",
       "2   Western Europe          FR                    France   \n",
       "3  Southern Europe          RS                    Serbie   \n",
       "4    South America          UY                   Uruguay   \n",
       "\n",
       "                                            geometry  \n",
       "0  MULTIPOLYGON (((145.63331 14.91236, 145.62412 ...  \n",
       "1  MULTIPOLYGON (((146.68274 43.70777, 146.66664 ...  \n",
       "2  MULTIPOLYGON (((9.4475 42.68305, 9.45014 42.63...  \n",
       "3  POLYGON ((20.26102 46.11485, 20.31403 46.06986...  \n",
       "4  POLYGON ((-53.3743 -33.74067, -53.39917 -33.75...  "
      ]
     },
     "execution_count": 28,
     "metadata": {},
     "output_type": "execute_result"
    }
   ],
   "source": [
    "countries.head()"
   ]
  },
  {
   "cell_type": "code",
   "execution_count": 29,
   "metadata": {},
   "outputs": [
    {
     "data": {
      "text/html": [
       "<div>\n",
       "<style scoped>\n",
       "    .dataframe tbody tr th:only-of-type {\n",
       "        vertical-align: middle;\n",
       "    }\n",
       "\n",
       "    .dataframe tbody tr th {\n",
       "        vertical-align: top;\n",
       "    }\n",
       "\n",
       "    .dataframe thead th {\n",
       "        text-align: right;\n",
       "    }\n",
       "</style>\n",
       "<table border=\"1\" class=\"dataframe\">\n",
       "  <thead>\n",
       "    <tr style=\"text-align: right;\">\n",
       "      <th></th>\n",
       "      <th>iso3</th>\n",
       "      <th>status</th>\n",
       "      <th>color_code</th>\n",
       "      <th>name</th>\n",
       "      <th>continent</th>\n",
       "      <th>region</th>\n",
       "      <th>iso_3166_1_</th>\n",
       "      <th>french_shor</th>\n",
       "      <th>geometry</th>\n",
       "    </tr>\n",
       "  </thead>\n",
       "  <tbody>\n",
       "    <tr>\n",
       "      <th>86</th>\n",
       "      <td>LVA</td>\n",
       "      <td>Member State</td>\n",
       "      <td>LVA</td>\n",
       "      <td>Latvia</td>\n",
       "      <td>Europe</td>\n",
       "      <td>Northern Europe</td>\n",
       "      <td>LV</td>\n",
       "      <td>Lettonie</td>\n",
       "      <td>POLYGON ((27.37206 57.53564, 27.425 57.53194, ...</td>\n",
       "    </tr>\n",
       "  </tbody>\n",
       "</table>\n",
       "</div>"
      ],
      "text/plain": [
       "   iso3        status color_code    name continent           region  \\\n",
       "86  LVA  Member State        LVA  Latvia    Europe  Northern Europe   \n",
       "\n",
       "   iso_3166_1_ french_shor                                           geometry  \n",
       "86          LV    Lettonie  POLYGON ((27.37206 57.53564, 27.425 57.53194, ...  "
      ]
     },
     "execution_count": 29,
     "metadata": {},
     "output_type": "execute_result"
    }
   ],
   "source": [
    "countries[countries[\"iso3\"] == \"LVA\"]"
   ]
  },
  {
   "cell_type": "code",
   "execution_count": 30,
   "metadata": {},
   "outputs": [
    {
     "data": {
      "text/html": [
       "<div>\n",
       "<style scoped>\n",
       "    .dataframe tbody tr th:only-of-type {\n",
       "        vertical-align: middle;\n",
       "    }\n",
       "\n",
       "    .dataframe tbody tr th {\n",
       "        vertical-align: top;\n",
       "    }\n",
       "\n",
       "    .dataframe thead th {\n",
       "        text-align: right;\n",
       "    }\n",
       "</style>\n",
       "<table border=\"1\" class=\"dataframe\">\n",
       "  <thead>\n",
       "    <tr style=\"text-align: right;\">\n",
       "      <th></th>\n",
       "      <th>geometry</th>\n",
       "    </tr>\n",
       "  </thead>\n",
       "  <tbody>\n",
       "    <tr>\n",
       "      <th>0</th>\n",
       "      <td>POINT (20.97015 55.67497)</td>\n",
       "    </tr>\n",
       "    <tr>\n",
       "      <th>1</th>\n",
       "      <td>POINT (20.97015 55.84713)</td>\n",
       "    </tr>\n",
       "    <tr>\n",
       "      <th>2</th>\n",
       "      <td>POINT (20.97015 56.01928)</td>\n",
       "    </tr>\n",
       "    <tr>\n",
       "      <th>3</th>\n",
       "      <td>POINT (20.97015 56.19144)</td>\n",
       "    </tr>\n",
       "    <tr>\n",
       "      <th>4</th>\n",
       "      <td>POINT (20.97015 56.36359)</td>\n",
       "    </tr>\n",
       "    <tr>\n",
       "      <th>...</th>\n",
       "      <td>...</td>\n",
       "    </tr>\n",
       "    <tr>\n",
       "      <th>670</th>\n",
       "      <td>POINT (28.24104 57.39652)</td>\n",
       "    </tr>\n",
       "    <tr>\n",
       "      <th>671</th>\n",
       "      <td>POINT (28.24104 57.56867)</td>\n",
       "    </tr>\n",
       "    <tr>\n",
       "      <th>672</th>\n",
       "      <td>POINT (28.24104 57.74083)</td>\n",
       "    </tr>\n",
       "    <tr>\n",
       "      <th>673</th>\n",
       "      <td>POINT (28.24104 57.91298)</td>\n",
       "    </tr>\n",
       "    <tr>\n",
       "      <th>674</th>\n",
       "      <td>POINT (28.24104 58.08514)</td>\n",
       "    </tr>\n",
       "  </tbody>\n",
       "</table>\n",
       "<p>675 rows × 1 columns</p>\n",
       "</div>"
      ],
      "text/plain": [
       "                      geometry\n",
       "0    POINT (20.97015 55.67497)\n",
       "1    POINT (20.97015 55.84713)\n",
       "2    POINT (20.97015 56.01928)\n",
       "3    POINT (20.97015 56.19144)\n",
       "4    POINT (20.97015 56.36359)\n",
       "..                         ...\n",
       "670  POINT (28.24104 57.39652)\n",
       "671  POINT (28.24104 57.56867)\n",
       "672  POINT (28.24104 57.74083)\n",
       "673  POINT (28.24104 57.91298)\n",
       "674  POINT (28.24104 58.08514)\n",
       "\n",
       "[675 rows x 1 columns]"
      ]
     },
     "execution_count": 30,
     "metadata": {},
     "output_type": "execute_result"
    }
   ],
   "source": [
    "import numpy as np\n",
    "\n",
    "n_long = 45\n",
    "n_lat = 15\n",
    "\n",
    "longitudes = np.linspace(extremes[\"west\"], extremes[\"east\"], n_long)\n",
    "latitudes = np.linspace(extremes[\"south\"], extremes[\"north\"], n_lat)\n",
    "\n",
    "longitudes\n",
    "latitudes\n",
    "\n",
    "points = [shapely.geometry.Point(long, lat) for long in longitudes for lat in latitudes]\n",
    "\n",
    "lv_grid = gpd.GeoDataFrame(geometry=points)\n",
    "lv_grid.crs = \"EPSG:4326\"\n",
    "\n",
    "lv_grid\n"
   ]
  },
  {
   "cell_type": "code",
   "execution_count": 31,
   "metadata": {},
   "outputs": [],
   "source": [
    "contains = lv_grid.geometry.within(countries[countries[\"iso3\"] == \"LVA\"].geometry.iloc[0])\n",
    "\n",
    "lv_grid = lv_grid[contains].reset_index(drop=True)\n"
   ]
  },
  {
   "cell_type": "code",
   "execution_count": 32,
   "metadata": {},
   "outputs": [
    {
     "data": {
      "text/plain": [
       "20.970154"
      ]
     },
     "execution_count": 32,
     "metadata": {},
     "output_type": "execute_result"
    }
   ],
   "source": [
    "lv_grid.geometry.iloc[0].coords[0][0]\n"
   ]
  },
  {
   "cell_type": "code",
   "execution_count": 33,
   "metadata": {},
   "outputs": [],
   "source": [
    "lv_grid[\"rev_geocode\"] = lv_grid.geometry.apply(lambda x: reverse_geocode.get((x.coords[0][1], x.coords[0][0])))"
   ]
  },
  {
   "cell_type": "code",
   "execution_count": 34,
   "metadata": {},
   "outputs": [],
   "source": [
    "lv_grid[\"latitude\"] = lv_grid.rev_geocode.apply(lambda x: x[\"latitude\"])\n",
    "lv_grid[\"longitude\"] = lv_grid.rev_geocode.apply(lambda x: x[\"longitude\"])\n",
    "\n",
    "lv_grid[\"full_name\"] = lv_grid.rev_geocode.apply(lambda x: f\"{x.get('state', '')}{', ' if x.get('state') else ''}{x.get('county', '')}{', ' if x.get('county') else ''}{x.get('city', '')}\")\n",
    "\n",
    "lv_grid = lv_grid[lv_grid.rev_geocode.apply(lambda x: x.get(\"country_code\") == \"LV\")].reset_index(drop=True)\n"
   ]
  },
  {
   "cell_type": "code",
   "execution_count": 35,
   "metadata": {},
   "outputs": [
    {
     "data": {
      "text/html": [
       "<div>\n",
       "<style scoped>\n",
       "    .dataframe tbody tr th:only-of-type {\n",
       "        vertical-align: middle;\n",
       "    }\n",
       "\n",
       "    .dataframe tbody tr th {\n",
       "        vertical-align: top;\n",
       "    }\n",
       "\n",
       "    .dataframe thead th {\n",
       "        text-align: right;\n",
       "    }\n",
       "</style>\n",
       "<table border=\"1\" class=\"dataframe\">\n",
       "  <thead>\n",
       "    <tr style=\"text-align: right;\">\n",
       "      <th></th>\n",
       "      <th>geometry</th>\n",
       "      <th>rev_geocode</th>\n",
       "      <th>latitude</th>\n",
       "      <th>longitude</th>\n",
       "      <th>full_name</th>\n",
       "    </tr>\n",
       "  </thead>\n",
       "  <tbody>\n",
       "    <tr>\n",
       "      <th>0</th>\n",
       "      <td>POINT (20.97015 56.36359)</td>\n",
       "      <td>{'country_code': 'LV', 'city': 'Nīca', 'latitu...</td>\n",
       "      <td>56.34601</td>\n",
       "      <td>21.06401</td>\n",
       "      <td>South Kurzeme Municipality, Nīcas pagasts, Nīca</td>\n",
       "    </tr>\n",
       "    <tr>\n",
       "      <th>1</th>\n",
       "      <td>POINT (21.1354 56.19144)</td>\n",
       "      <td>{'country_code': 'LV', 'city': 'Rucava', 'lati...</td>\n",
       "      <td>56.16314</td>\n",
       "      <td>21.16156</td>\n",
       "      <td>South Kurzeme Municipality, Rucavas pagasts, R...</td>\n",
       "    </tr>\n",
       "    <tr>\n",
       "      <th>3</th>\n",
       "      <td>POINT (21.1354 56.53574)</td>\n",
       "      <td>{'country_code': 'LV', 'city': 'Grobiņa', 'lat...</td>\n",
       "      <td>56.53521</td>\n",
       "      <td>21.16782</td>\n",
       "      <td>South Kurzeme Municipality, Grobiņa</td>\n",
       "    </tr>\n",
       "    <tr>\n",
       "      <th>6</th>\n",
       "      <td>POINT (21.30065 56.53574)</td>\n",
       "      <td>{'country_code': 'LV', 'city': 'Lieģi', 'latit...</td>\n",
       "      <td>56.58173</td>\n",
       "      <td>21.33399</td>\n",
       "      <td>South Kurzeme Municipality, Tadaiķu pagasts, L...</td>\n",
       "    </tr>\n",
       "    <tr>\n",
       "      <th>8</th>\n",
       "      <td>POINT (21.30065 56.88005)</td>\n",
       "      <td>{'country_code': 'LV', 'city': 'Pāvilosta', 'l...</td>\n",
       "      <td>56.88791</td>\n",
       "      <td>21.18593</td>\n",
       "      <td>South Kurzeme Municipality, Pāvilosta</td>\n",
       "    </tr>\n",
       "    <tr>\n",
       "      <th>...</th>\n",
       "      <td>...</td>\n",
       "      <td>...</td>\n",
       "      <td>...</td>\n",
       "      <td>...</td>\n",
       "      <td>...</td>\n",
       "    </tr>\n",
       "    <tr>\n",
       "      <th>286</th>\n",
       "      <td>POINT (27.41481 56.01928)</td>\n",
       "      <td>{'country_code': 'LV', 'city': 'Dagda', 'latit...</td>\n",
       "      <td>56.09512</td>\n",
       "      <td>27.53723</td>\n",
       "      <td>Krāslava Municipality, Dagda</td>\n",
       "    </tr>\n",
       "    <tr>\n",
       "      <th>291</th>\n",
       "      <td>POINT (27.41481 56.88005)</td>\n",
       "      <td>{'country_code': 'LV', 'city': 'Kārsava', 'lat...</td>\n",
       "      <td>56.78405</td>\n",
       "      <td>27.68829</td>\n",
       "      <td>Ludza Municipality, Kārsava</td>\n",
       "    </tr>\n",
       "    <tr>\n",
       "      <th>297</th>\n",
       "      <td>POINT (27.58005 56.36359)</td>\n",
       "      <td>{'country_code': 'LV', 'city': 'Ludza', 'latit...</td>\n",
       "      <td>56.53958</td>\n",
       "      <td>27.71891</td>\n",
       "      <td>Ludza Municipality, Ludza</td>\n",
       "    </tr>\n",
       "    <tr>\n",
       "      <th>301</th>\n",
       "      <td>POINT (27.58005 57.05221)</td>\n",
       "      <td>{'country_code': 'LV', 'city': 'Viļaka', 'lati...</td>\n",
       "      <td>57.18458</td>\n",
       "      <td>27.67220</td>\n",
       "      <td>Balvi Municipality, Viļaka</td>\n",
       "    </tr>\n",
       "    <tr>\n",
       "      <th>311</th>\n",
       "      <td>POINT (27.91055 56.36359)</td>\n",
       "      <td>{'country_code': 'LV', 'city': 'Zilupe', 'lati...</td>\n",
       "      <td>56.38616</td>\n",
       "      <td>28.12165</td>\n",
       "      <td>Ludza Municipality, Zilupe</td>\n",
       "    </tr>\n",
       "  </tbody>\n",
       "</table>\n",
       "<p>113 rows × 5 columns</p>\n",
       "</div>"
      ],
      "text/plain": [
       "                      geometry  \\\n",
       "0    POINT (20.97015 56.36359)   \n",
       "1     POINT (21.1354 56.19144)   \n",
       "3     POINT (21.1354 56.53574)   \n",
       "6    POINT (21.30065 56.53574)   \n",
       "8    POINT (21.30065 56.88005)   \n",
       "..                         ...   \n",
       "286  POINT (27.41481 56.01928)   \n",
       "291  POINT (27.41481 56.88005)   \n",
       "297  POINT (27.58005 56.36359)   \n",
       "301  POINT (27.58005 57.05221)   \n",
       "311  POINT (27.91055 56.36359)   \n",
       "\n",
       "                                           rev_geocode  latitude  longitude  \\\n",
       "0    {'country_code': 'LV', 'city': 'Nīca', 'latitu...  56.34601   21.06401   \n",
       "1    {'country_code': 'LV', 'city': 'Rucava', 'lati...  56.16314   21.16156   \n",
       "3    {'country_code': 'LV', 'city': 'Grobiņa', 'lat...  56.53521   21.16782   \n",
       "6    {'country_code': 'LV', 'city': 'Lieģi', 'latit...  56.58173   21.33399   \n",
       "8    {'country_code': 'LV', 'city': 'Pāvilosta', 'l...  56.88791   21.18593   \n",
       "..                                                 ...       ...        ...   \n",
       "286  {'country_code': 'LV', 'city': 'Dagda', 'latit...  56.09512   27.53723   \n",
       "291  {'country_code': 'LV', 'city': 'Kārsava', 'lat...  56.78405   27.68829   \n",
       "297  {'country_code': 'LV', 'city': 'Ludza', 'latit...  56.53958   27.71891   \n",
       "301  {'country_code': 'LV', 'city': 'Viļaka', 'lati...  57.18458   27.67220   \n",
       "311  {'country_code': 'LV', 'city': 'Zilupe', 'lati...  56.38616   28.12165   \n",
       "\n",
       "                                             full_name  \n",
       "0      South Kurzeme Municipality, Nīcas pagasts, Nīca  \n",
       "1    South Kurzeme Municipality, Rucavas pagasts, R...  \n",
       "3                  South Kurzeme Municipality, Grobiņa  \n",
       "6    South Kurzeme Municipality, Tadaiķu pagasts, L...  \n",
       "8                South Kurzeme Municipality, Pāvilosta  \n",
       "..                                                 ...  \n",
       "286                       Krāslava Municipality, Dagda  \n",
       "291                        Ludza Municipality, Kārsava  \n",
       "297                          Ludza Municipality, Ludza  \n",
       "301                         Balvi Municipality, Viļaka  \n",
       "311                         Ludza Municipality, Zilupe  \n",
       "\n",
       "[113 rows x 5 columns]"
      ]
     },
     "execution_count": 35,
     "metadata": {},
     "output_type": "execute_result"
    }
   ],
   "source": [
    "lv_grid.drop_duplicates(subset=[\"full_name\"])"
   ]
  },
  {
   "cell_type": "code",
   "execution_count": 36,
   "metadata": {},
   "outputs": [
    {
     "data": {
      "text/plain": [
       "['Cēsis Municipality, Stalbes pagasts, Stalbe',\n",
       " 'Cēsis Municipality, Līgatne',\n",
       " 'Cēsis Municipality, Līgatne',\n",
       " 'Cēsis Municipality, Stalbes pagasts, Stalbe',\n",
       " 'Cēsis Municipality, Drabešu pagasts, Drabeši',\n",
       " 'Cēsis Municipality, Drabešu pagasts, Drabeši',\n",
       " 'Cēsis Municipality, Cēsis',\n",
       " 'Cēsis Municipality, Drabešu pagasts, Drabeši',\n",
       " 'Cēsis Municipality, Priekuļu pagasts, Priekuļi',\n",
       " 'Cēsis Municipality, Vecpiebalgas pagasts, Vecpiebalga',\n",
       " 'Cēsis Municipality, Vecpiebalgas pagasts, Vecpiebalga',\n",
       " 'Cēsis Municipality, Vecpiebalgas pagasts, Vecpiebalga',\n",
       " 'Cēsis Municipality, Vecpiebalgas pagasts, Vecpiebalga']"
      ]
     },
     "execution_count": 36,
     "metadata": {},
     "output_type": "execute_result"
    }
   ],
   "source": [
    "lv_grid[lv_grid[\"full_name\"].str.startswith(\"Cēsis\")].full_name.tolist()"
   ]
  },
  {
   "cell_type": "code",
   "execution_count": 38,
   "metadata": {},
   "outputs": [],
   "source": [
    "lv_grid.drop_duplicates(subset=[\"full_name\"])[[\"full_name\", \"latitude\", \"longitude\"]].to_csv(\"lv_grid.csv\", index=False)"
   ]
  }
 ],
 "metadata": {
  "kernelspec": {
   "display_name": ".venv",
   "language": "python",
   "name": "python3"
  },
  "language_info": {
   "codemirror_mode": {
    "name": "ipython",
    "version": 3
   },
   "file_extension": ".py",
   "mimetype": "text/x-python",
   "name": "python",
   "nbconvert_exporter": "python",
   "pygments_lexer": "ipython3",
   "version": "3.13.1"
  }
 },
 "nbformat": 4,
 "nbformat_minor": 2
}
