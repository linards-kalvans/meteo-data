{
 "cells": [
  {
   "cell_type": "code",
   "execution_count": 1,
   "metadata": {},
   "outputs": [],
   "source": [
    "import duckdb\n",
    "import os"
   ]
  },
  {
   "cell_type": "code",
   "execution_count": 2,
   "metadata": {},
   "outputs": [
    {
     "data": {
      "text/plain": [
       "True"
      ]
     },
     "execution_count": 2,
     "metadata": {},
     "output_type": "execute_result"
    }
   ],
   "source": [
    "from dotenv import load_dotenv\n",
    "\n",
    "load_dotenv()\n"
   ]
  },
  {
   "cell_type": "code",
   "execution_count": 3,
   "metadata": {},
   "outputs": [
    {
     "data": {
      "text/plain": [
       "'AKIAD58EA06099245AB3'"
      ]
     },
     "execution_count": 3,
     "metadata": {},
     "output_type": "execute_result"
    }
   ],
   "source": [
    "os.getenv('AWS_ACCESS_KEY_ID')"
   ]
  },
  {
   "cell_type": "code",
   "execution_count": 4,
   "metadata": {},
   "outputs": [
    {
     "data": {
      "text/plain": [
       "┌─────────┐\n",
       "│ Success │\n",
       "│ boolean │\n",
       "├─────────┤\n",
       "│ true    │\n",
       "└─────────┘"
      ]
     },
     "execution_count": 4,
     "metadata": {},
     "output_type": "execute_result"
    }
   ],
   "source": [
    "try:\n",
    "    # Delete the secret if it exists\n",
    "    duckdb.sql(\"DROP SECRET IF EXISTS secret1\")\n",
    "except Exception as e:\n",
    "    print(e)\n",
    "\n",
    "duckdb.sql(\n",
    "    f\"\"\"\n",
    "CREATE SECRET secret1 (\n",
    "    TYPE S3,\n",
    "    KEY_ID '{os.getenv('AWS_ACCESS_KEY_ID')}',\n",
    "    SECRET '{os.getenv('AWS_SECRET_ACCESS_KEY')}',\n",
    "    ENDPOINT '{os.getenv('AWS_S3_ENDPOINT')}'\n",
    ");\n",
    "    \"\"\"\n",
    ")"
   ]
  },
  {
   "cell_type": "code",
   "execution_count": 5,
   "metadata": {},
   "outputs": [],
   "source": [
    "duckdb.sql(\n",
    "    \"\"\"\n",
    "CREATE OR REPLACE TABLE weather_forecast AS\n",
    "    SELECT\n",
    "        *\n",
    "    FROM 's3://md-raw-data/*/forecast_lv_grid.parquet'\n",
    "    \"\"\"\n",
    ")\n"
   ]
  },
  {
   "cell_type": "code",
   "execution_count": 6,
   "metadata": {},
   "outputs": [],
   "source": [
    "duckdb.sql(\n",
    "    \"\"\"\n",
    "CREATE OR REPLACE TABLE weather_current AS\n",
    "    SELECT\n",
    "        *\n",
    "    FROM 's3://md-raw-data/*/current_weather_lv_grid.parquet'\n",
    "    \"\"\"\n",
    ")\n"
   ]
  },
  {
   "cell_type": "code",
   "execution_count": 8,
   "metadata": {},
   "outputs": [
    {
     "data": {
      "text/plain": [
       "┌──────────────────────────┬──────────────────────────┬─────────┬──────────┬───────────┬───────────┬─────────────┬────────────┬────────────────┬───────────────────┬───────────┬───────────────┬───────────────────────────┬──────────────┬─────────────┬─────────────────┬─────────────────┬──────────────────┬────────────┐\n",
       "│        created_at        │           date           │  model  │ latitude │ longitude │ elevation │ temperature │ wind_speed │ wind_direction │ relative_humidity │ dew_point │ precipitation │ precipitation_probability │ weather_code │ cloud_cover │ cloud_cover_low │ cloud_cover_mid │ cloud_cover_high │ iso_3166_2 │\n",
       "│ timestamp with time zone │ timestamp with time zone │ varchar │  double  │  double   │  double   │    float    │   float    │     float      │       float       │   float   │     float     │           float           │    float     │    float    │      float      │      float      │      float       │  varchar   │\n",
       "├──────────────────────────┴──────────────────────────┴─────────┴──────────┴───────────┴───────────┴─────────────┴────────────┴────────────────┴───────────────────┴───────────┴───────────────┴───────────────────────────┴──────────────┴─────────────┴─────────────────┴─────────────────┴──────────────────┴────────────┤\n",
       "│                                                                                                                                                          0 rows                                                                                                                                                           │\n",
       "└───────────────────────────────────────────────────────────────────────────────────────────────────────────────────────────────────────────────────────────────────────────────────────────────────────────────────────────────────────────────────────────────────────────────────────────────────────────────────────────┘"
      ]
     },
     "metadata": {},
     "output_type": "display_data"
    },
    {
     "data": {
      "text/plain": [
       "┌──────────────────────────┬──────────────────────────┬─────────┬──────────┬───────────┬───────────┬─────────────┬────────────┬────────────────┬───────────────────┬───────────┬───────────────┬───────────────────────────┬──────────────┬─────────────┬─────────────────┬─────────────────┬──────────────────┬────────────┐\n",
       "│        created_at        │           date           │  model  │ latitude │ longitude │ elevation │ temperature │ wind_speed │ wind_direction │ relative_humidity │ dew_point │ precipitation │ precipitation_probability │ weather_code │ cloud_cover │ cloud_cover_low │ cloud_cover_mid │ cloud_cover_high │ iso_3166_2 │\n",
       "│ timestamp with time zone │ timestamp with time zone │ varchar │  double  │  double   │  double   │   double    │   double   │     double     │      double       │  double   │    double     │          double           │    double    │   double    │     double      │     double      │      double      │  varchar   │\n",
       "├──────────────────────────┴──────────────────────────┴─────────┴──────────┴───────────┴───────────┴─────────────┴────────────┴────────────────┴───────────────────┴───────────┴───────────────┴───────────────────────────┴──────────────┴─────────────┴─────────────────┴─────────────────┴──────────────────┴────────────┤\n",
       "│                                                                                                                                                          0 rows                                                                                                                                                           │\n",
       "└───────────────────────────────────────────────────────────────────────────────────────────────────────────────────────────────────────────────────────────────────────────────────────────────────────────────────────────────────────────────────────────────────────────────────────────────────────────────────────────┘"
      ]
     },
     "execution_count": 8,
     "metadata": {},
     "output_type": "execute_result"
    }
   ],
   "source": [
    "display(duckdb.sql(\"SELECT * FROM weather_forecast WHERE iso_3166_2 = 'LV-056' AND model = 'meteofrance_seamless' AND date = '2025-01-26T00:00:00+00:00'\"))\n",
    "duckdb.sql(\"SELECT * FROM weather_current WHERE iso_3166_2 = 'LV-056' AND model = 'meteofrance_seamless' AND date = '2025-01-26T00:00:00+00:00'\")"
   ]
  },
  {
   "cell_type": "code",
   "execution_count": 19,
   "metadata": {},
   "outputs": [],
   "source": [
    "weather_variables = [\n",
    "        \"temperature\",\n",
    "        # \"wind_speed\",\n",
    "        # \"wind_direction\",\n",
    "        # \"relative_humidity\",\n",
    "        # \"dew_point\",\n",
    "        # \"apparent_temperature\",\n",
    "        # \"precipitation\",\n",
    "        # \"precipitation_probability\",\n",
    "        # \"rain\",\n",
    "        # \"showers\",\n",
    "        # \"snowfall\",\n",
    "        # \"snow_depth\",\n",
    "        # \"weather_code\",\n",
    "        # \"cloud_cover\",\n",
    "        # \"cloud_cover_low\",\n",
    "        # \"cloud_cover_mid\",\n",
    "        # \"cloud_cover_high\",\n",
    "]\n",
    "\n",
    "diff_statements = [\n",
    "    f\"abs(forecast_lv_grid.{variable} - current_weather_lv_grid.{variable}) AS {variable}_difference\"\n",
    "    for variable in weather_variables\n",
    "]\n"
   ]
  },
  {
   "cell_type": "code",
   "execution_count": 32,
   "metadata": {},
   "outputs": [
    {
     "data": {
      "text/plain": [
       "┌──────────────────────────┬───────────────┬──────────────────────┬──────────┬───────────┬────────────────────┬────────────────────────┬─────────────┬────────────────────┬────────────┬────────────┐\n",
       "│           date           │     model     │        model         │ latitude │ longitude │ forecast_lead_time │ temperature_difference │ temperature │    temperature     │ iso_3166_2 │ iso_3166_2 │\n",
       "│ timestamp with time zone │    varchar    │       varchar        │  double  │  double   │      interval      │         double         │    float    │       double       │  varchar   │  varchar   │\n",
       "├──────────────────────────┼───────────────┼──────────────────────┼──────────┼───────────┼────────────────────┼────────────────────────┼─────────────┼────────────────────┼────────────┼────────────┤\n",
       "│ 2025-01-26 02:00:00+02   │ ukmo_seamless │ ukmo_seamless        │    26.25 │     56.25 │ -12:08:22.169663   │    0.34999942779541016 │         8.4 │  8.050000190734863 │ LV-056     │ LV-056     │\n",
       "│ 2025-01-26 02:00:00+02   │ ukmo_seamless │ meteofrance_seamless │    26.25 │     56.25 │ -12:08:22.169663   │                   11.5 │         8.4 │ 19.899999618530273 │ LV-056     │ LV-056     │\n",
       "│ 2025-01-26 02:00:00+02   │ ukmo_seamless │ ukmo_seamless        │    26.25 │     56.25 │ -00:08:23.468819   │                    0.0 │        8.05 │  8.050000190734863 │ LV-056     │ LV-056     │\n",
       "│ 2025-01-26 02:00:00+02   │ ukmo_seamless │ meteofrance_seamless │    26.25 │     56.25 │ -00:08:23.468819   │      11.84999942779541 │        8.05 │ 19.899999618530273 │ LV-056     │ LV-056     │\n",
       "└──────────────────────────┴───────────────┴──────────────────────┴──────────┴───────────┴────────────────────┴────────────────────────┴─────────────┴────────────────────┴────────────┴────────────┘"
      ]
     },
     "execution_count": 32,
     "metadata": {},
     "output_type": "execute_result"
    }
   ],
   "source": [
    "duckdb.sql(\n",
    "    f\"\"\"\n",
    "SELECT\n",
    "    forecast_lv_grid.date,\n",
    "    forecast_lv_grid.model,\n",
    "    current_weather_lv_grid.model,\n",
    "    forecast_lv_grid.latitude,\n",
    "    forecast_lv_grid.longitude,\n",
    "    forecast_lv_grid.date - forecast_lv_grid.created_at AS forecast_lead_time,\n",
    "    {\", \".join(diff_statements)},\n",
    "    forecast_lv_grid.temperature,\n",
    "    current_weather_lv_grid.temperature,\n",
    "    forecast_lv_grid.iso_3166_2,\n",
    "    current_weather_lv_grid.iso_3166_2\n",
    "FROM forecast_lv_grid\n",
    "JOIN current_weather_lv_grid ON\n",
    "    forecast_lv_grid.date = current_weather_lv_grid.date\n",
    "    AND forecast_lv_grid.latitude = current_weather_lv_grid.latitude\n",
    "    AND forecast_lv_grid.longitude = current_weather_lv_grid.longitude\n",
    "WHERE forecast_lv_grid.iso_3166_2 = 'LV-056'\n",
    "    -- AND abs(forecast_lv_grid.temperature - current_weather_lv_grid.temperature) > 10\n",
    "    AND forecast_lv_grid.date = '2025-01-26T00:00:00+00:00'\n",
    "    AND forecast_lv_grid.model = 'ukmo_seamless'\n",
    "    \"\"\"\n",
    ")\n"
   ]
  },
  {
   "cell_type": "code",
   "execution_count": 31,
   "metadata": {},
   "outputs": [
    {
     "data": {
      "text/plain": [
       "┌───────────────────────────────┬──────────────────────────┬──────────────────────┬────────────────────┬───────────────────┬───────────┬────────────────────┬─────────────────────┬────────────────────┬───────────────────┬────────────────────┬───────────────┬───────────────────────────┬──────────────┬─────────────┬─────────────────┬───────────────────┬──────────────────┬────────────┐\n",
       "│          created_at           │           date           │        model         │      latitude      │     longitude     │ elevation │    temperature     │     wind_speed      │   wind_direction   │ relative_humidity │     dew_point      │ precipitation │ precipitation_probability │ weather_code │ cloud_cover │ cloud_cover_low │  cloud_cover_mid  │ cloud_cover_high │ iso_3166_2 │\n",
       "│   timestamp with time zone    │ timestamp with time zone │       varchar        │       double       │      double       │  double   │       double       │       double        │       double       │      double       │       double       │    double     │          double           │    double    │   double    │     double      │      double       │      double      │  varchar   │\n",
       "├───────────────────────────────┼──────────────────────────┼──────────────────────┼────────────────────┼───────────────────┼───────────┼────────────────────┼─────────────────────┼────────────────────┼───────────────────┼────────────────────┼───────────────┼───────────────────────────┼──────────────┼─────────────┼─────────────────┼───────────────────┼──────────────────┼────────────┤\n",
       "│ 2025-01-26 02:08:23.477506+02 │ 2025-01-26 02:00:00+02   │ icon_seamless        │             26.375 │            56.375 │      64.0 │ 20.149999618530273 │ 0.36055514216423035 │ 33.690101623535156 │              57.0 │ 11.363540649414062 │           0.0 │                       0.0 │          0.0 │         0.0 │             0.0 │               0.0 │              0.0 │ LV-056     │\n",
       "│ 2025-01-26 02:08:23.479068+02 │ 2025-01-26 02:00:00+02   │ meteofrance_seamless │              26.25 │             56.25 │      64.0 │ 19.899999618530273 │  1.4866068363189697 │ 199.65391540527344 │              64.0 │  12.88893985748291 │           0.0 │                       nan │          0.0 │         0.0 │             0.0 │               0.0 │              0.0 │ LV-056     │\n",
       "│ 2025-01-26 02:08:23.480485+02 │ 2025-01-26 02:00:00+02   │ ecmwf_aifs025        │               26.0 │              56.0 │      64.0 │              19.75 │   0.761577308177948 │  336.8013916015625 │              62.0 │                nan │           0.0 │                       nan │          0.0 │         0.0 │             0.0 │               0.0 │              0.0 │ LV-056     │\n",
       "│ 2025-01-26 02:08:23.482045+02 │ 2025-01-26 02:00:00+02   │ jma_seamless         │               26.5 │              56.5 │      64.0 │ 22.200000762939453 │  1.2806248664855957 │ 51.340171813964844 │              54.0 │  12.45187759399414 │           0.0 │                       nan │          0.0 │         0.0 │             0.0 │               0.0 │              0.0 │ LV-056     │\n",
       "│ 2025-01-26 02:08:23.483994+02 │ 2025-01-26 02:00:00+02   │ gem_seamless         │ 26.400001525878906 │ 56.40000915527344 │      64.0 │               20.0 │                 2.0 │               53.0 │              68.0 │ 13.914746284484863 │           0.0 │                       0.0 │          0.0 │         0.0 │             0.0 │               0.0 │              0.0 │ LV-056     │\n",
       "│ 2025-01-26 02:08:23.484764+02 │ 2025-01-26 02:00:00+02   │ bom_access_global    │        26.30859375 │      56.337890625 │      64.0 │              21.75 │   1.399999976158142 │              128.0 │              47.0 │  9.942834854125977 │           0.0 │                       0.0 │          0.0 │         0.0 │             0.0 │               0.0 │              0.0 │ LV-056     │\n",
       "│ 2025-01-26 14:08:22.178875+02 │ 2025-01-26 14:00:00+02   │ icon_seamless        │             26.375 │            56.375 │      64.0 │ 24.100000381469727 │   1.140175461769104 │  37.87505340576172 │              33.0 │  6.824302673339844 │           0.0 │                       0.0 │          0.0 │         0.0 │             0.0 │               0.0 │              0.0 │ LV-056     │\n",
       "│ 2025-01-26 14:08:22.179742+02 │ 2025-01-26 14:00:00+02   │ gfs_seamless         │ 26.182884216308594 │        56.3671875 │      64.0 │               23.5 │  1.7000000476837158 │  28.07239532470703 │              26.0 │  2.886481761932373 │           0.0 │                       0.0 │          0.0 │         0.0 │             0.0 │               0.0 │              0.0 │ LV-056     │\n",
       "│ 2025-01-26 14:08:22.180534+02 │ 2025-01-26 14:00:00+02   │ meteofrance_seamless │              26.25 │             56.25 │      64.0 │              23.75 │  3.0232434272766113 │ 34.215755462646484 │              50.0 │ 12.709156036376953 │           0.0 │                       nan │          0.0 │         0.0 │             0.0 │               0.0 │              0.0 │ LV-056     │\n",
       "│ 2025-01-26 14:08:22.181361+02 │ 2025-01-26 14:00:00+02   │ ecmwf_ifs025         │               26.0 │             56.25 │      64.0 │ 25.799999237060547 │   1.341640830039978 │ 26.564985275268555 │              26.0 │                nan │           0.0 │                       0.0 │          0.0 │         0.0 │             0.0 │               0.0 │              0.0 │ LV-056     │\n",
       "│               ·               │           ·              │      ·               │                 ·  │               ·   │        ·  │          ·         │           ·         │          ·         │                ·  │                 ·  │            ·  │                        ·  │           ·  │          ·  │              ·  │                ·  │               ·  │   ·        │\n",
       "│               ·               │           ·              │      ·               │                 ·  │               ·   │        ·  │          ·         │           ·         │          ·         │                ·  │                 ·  │            ·  │                        ·  │           ·  │          ·  │              ·  │                ·  │               ·  │   ·        │\n",
       "│               ·               │           ·              │      ·               │                 ·  │               ·   │        ·  │          ·         │           ·         │          ·         │                ·  │                 ·  │            ·  │                        ·  │           ·  │          ·  │              ·  │                ·  │               ·  │   ·        │\n",
       "│ 2025-01-28 14:08:33.351962+02 │ 2025-01-28 14:00:00+02   │ ecmwf_ifs025         │               26.0 │             56.25 │      64.0 │ 24.700000762939453 │  2.4515302181243896 │ 281.76824951171875 │              38.0 │                nan │           0.0 │                       0.0 │          0.0 │         0.0 │             0.0 │               0.0 │              0.0 │ LV-056     │\n",
       "│ 2025-01-28 14:08:33.352697+02 │ 2025-01-28 14:00:00+02   │ ecmwf_aifs025        │               26.0 │              56.0 │      64.0 │              23.25 │   4.134005546569824 │  237.8477325439453 │              58.0 │                nan │           0.0 │                       nan │          0.0 │         2.0 │             0.0 │               4.0 │              0.0 │ LV-056     │\n",
       "│ 2025-01-28 14:08:33.353405+02 │ 2025-01-28 14:00:00+02   │ ukmo_seamless        │              26.25 │             56.25 │      64.0 │ 24.850000381469727 │                 9.5 │              253.0 │              41.0 │ 10.701505661010742 │           0.0 │                       nan │          0.0 │         0.0 │             0.0 │               0.0 │              0.0 │ LV-056     │\n",
       "│ 2025-01-28 14:08:33.354112+02 │ 2025-01-28 14:00:00+02   │ jma_seamless         │               26.5 │              56.5 │      64.0 │               23.0 │   9.247702598571777 │  248.4286346435547 │              64.0 │ 15.824908256530762 │           0.0 │                       nan │          0.0 │         0.0 │             0.0 │               0.0 │              0.0 │ LV-056     │\n",
       "│ 2025-01-28 14:08:33.35481+02  │ 2025-01-28 14:00:00+02   │ metno_seamless       │               26.0 │             56.25 │      64.0 │ 24.700000762939453 │  2.4515302181243896 │ 281.76824951171875 │              38.0 │                nan │           0.0 │                       0.0 │          0.0 │         0.0 │             0.0 │               0.0 │              0.0 │ LV-056     │\n",
       "│ 2025-01-28 14:08:33.355533+02 │ 2025-01-28 14:00:00+02   │ gem_seamless         │ 26.400001525878906 │ 56.40000915527344 │      64.0 │ 23.450000762939453 │                 8.5 │              242.0 │              57.0 │ 14.445594787597656 │           0.0 │                       0.0 │          0.0 │         0.0 │             0.0 │ 6.649422645568848 │              0.0 │ LV-056     │\n",
       "│ 2025-01-28 14:08:33.356248+02 │ 2025-01-28 14:00:00+02   │ bom_access_global    │        26.30859375 │      56.337890625 │      64.0 │ 22.799999237060547 │   9.899999618530273 │              245.0 │              63.0 │ 15.389774322509766 │           0.0 │                       0.0 │          0.0 │         0.0 │             0.0 │               0.0 │              0.0 │ LV-056     │\n",
       "│ 2025-01-28 14:08:33.35693+02  │ 2025-01-28 14:00:00+02   │ cma_grapes_global    │            26.3125 │            56.375 │      64.0 │ 24.700000762939453 │   7.496665954589844 │  260.7890319824219 │              56.0 │ 15.336225509643555 │           0.0 │                       nan │          1.0 │        26.0 │            26.0 │               3.0 │              0.0 │ LV-056     │\n",
       "│ 2025-01-28 14:08:33.35764+02  │ 2025-01-28 14:00:00+02   │ knmi_seamless        │               26.0 │             56.25 │      64.0 │ 24.700000762939453 │  2.4515302181243896 │ 281.76824951171875 │              38.0 │                nan │           0.0 │                       0.0 │          0.0 │         0.0 │             0.0 │               0.0 │              0.0 │ LV-056     │\n",
       "│ 2025-01-28 14:08:33.358361+02 │ 2025-01-28 14:00:00+02   │ dmi_seamless         │               26.0 │             56.25 │      64.0 │ 24.700000762939453 │  2.4515302181243896 │ 281.76824951171875 │              38.0 │                nan │           0.0 │                       0.0 │          0.0 │         0.0 │             0.0 │               0.0 │              0.0 │ LV-056     │\n",
       "├───────────────────────────────┴──────────────────────────┴──────────────────────┴────────────────────┴───────────────────┴───────────┴────────────────────┴─────────────────────┴────────────────────┴───────────────────┴────────────────────┴───────────────┴───────────────────────────┴──────────────┴─────────────┴─────────────────┴───────────────────┴──────────────────┴────────────┤\n",
       "│ 63 rows (20 shown)                                                                                                                                                                                                                                                                                                                                                                19 columns │\n",
       "└──────────────────────────────────────────────────────────────────────────────────────────────────────────────────────────────────────────────────────────────────────────────────────────────────────────────────────────────────────────────────────────────────────────────────────────────────────────────────────────────────────────────────────────────────────────────────────────────┘"
      ]
     },
     "execution_count": 31,
     "metadata": {},
     "output_type": "execute_result"
    }
   ],
   "source": [
    "duckdb.sql(\"SELECT * FROM current_weather_lv_grid WHERE iso_3166_2 = 'LV-056' AND temperature > 19\")"
   ]
  },
  {
   "cell_type": "code",
   "execution_count": 36,
   "metadata": {},
   "outputs": [
    {
     "data": {
      "text/plain": [
       "┌────────────┬──────────────────────────────┐\n",
       "│ iso_3166_2 │ AVG(temperature_performance) │\n",
       "│  varchar   │            double            │\n",
       "├────────────┼──────────────────────────────┤\n",
       "│ LV-056     │            780.1897159502973 │\n",
       "└────────────┴──────────────────────────────┘"
      ]
     },
     "execution_count": 36,
     "metadata": {},
     "output_type": "execute_result"
    }
   ],
   "source": [
    "duckdb.sql(\n",
    "    \"\"\"\n",
    "SELECT iso_3166_2 AS iso_3166_2, AVG(temperature_performance) AS \"AVG(temperature_performance)\" \n",
    "FROM (SELECT * FROM 's3://processed-data/*/*.parquet'\n",
    ") AS virtual_table WHERE iso_3166_2 = 'LV-056' GROUP BY iso_3166_2 \n",
    " LIMIT 50000;\n",
    "    \"\"\"\n",
    ")"
   ]
  }
 ],
 "metadata": {
  "kernelspec": {
   "display_name": ".venv",
   "language": "python",
   "name": "python3"
  },
  "language_info": {
   "codemirror_mode": {
    "name": "ipython",
    "version": 3
   },
   "file_extension": ".py",
   "mimetype": "text/x-python",
   "name": "python",
   "nbconvert_exporter": "python",
   "pygments_lexer": "ipython3",
   "version": "3.13.1"
  }
 },
 "nbformat": 4,
 "nbformat_minor": 2
}
